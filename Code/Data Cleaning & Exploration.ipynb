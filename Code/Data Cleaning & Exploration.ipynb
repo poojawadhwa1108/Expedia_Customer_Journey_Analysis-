{
 "cells": [
  {
   "cell_type": "code",
   "execution_count": 28,
   "metadata": {},
   "outputs": [],
   "source": [
    "import pandas as pd\n",
    "import datetime as dt\n",
    "import numpy as np"
   ]
  },
  {
   "cell_type": "code",
   "execution_count": 29,
   "metadata": {},
   "outputs": [],
   "source": [
    "data = pd.read_csv(\"Raw_Data/train.csv\")"
   ]
  },
  {
   "cell_type": "code",
   "execution_count": 30,
   "metadata": {},
   "outputs": [
    {
     "data": {
      "text/html": [
       "<div>\n",
       "<style scoped>\n",
       "    .dataframe tbody tr th:only-of-type {\n",
       "        vertical-align: middle;\n",
       "    }\n",
       "\n",
       "    .dataframe tbody tr th {\n",
       "        vertical-align: top;\n",
       "    }\n",
       "\n",
       "    .dataframe thead th {\n",
       "        text-align: right;\n",
       "    }\n",
       "</style>\n",
       "<table border=\"1\" class=\"dataframe\">\n",
       "  <thead>\n",
       "    <tr style=\"text-align: right;\">\n",
       "      <th></th>\n",
       "      <th>date_time</th>\n",
       "      <th>site_name</th>\n",
       "      <th>posa_continent</th>\n",
       "      <th>user_location_country</th>\n",
       "      <th>user_location_region</th>\n",
       "      <th>user_location_city</th>\n",
       "      <th>orig_destination_distance</th>\n",
       "      <th>user_id</th>\n",
       "      <th>is_mobile</th>\n",
       "      <th>is_package</th>\n",
       "      <th>...</th>\n",
       "      <th>srch_children_cnt</th>\n",
       "      <th>srch_rm_cnt</th>\n",
       "      <th>srch_destination_id</th>\n",
       "      <th>srch_destination_type_id</th>\n",
       "      <th>is_booking</th>\n",
       "      <th>cnt</th>\n",
       "      <th>hotel_continent</th>\n",
       "      <th>hotel_country</th>\n",
       "      <th>hotel_market</th>\n",
       "      <th>hotel_cluster</th>\n",
       "    </tr>\n",
       "  </thead>\n",
       "  <tbody>\n",
       "    <tr>\n",
       "      <th>0</th>\n",
       "      <td>2014-08-11 07:46:59</td>\n",
       "      <td>2</td>\n",
       "      <td>3</td>\n",
       "      <td>66</td>\n",
       "      <td>348</td>\n",
       "      <td>48862</td>\n",
       "      <td>2234.2641</td>\n",
       "      <td>12</td>\n",
       "      <td>0</td>\n",
       "      <td>1</td>\n",
       "      <td>...</td>\n",
       "      <td>0</td>\n",
       "      <td>1</td>\n",
       "      <td>8250</td>\n",
       "      <td>1</td>\n",
       "      <td>0</td>\n",
       "      <td>3</td>\n",
       "      <td>2</td>\n",
       "      <td>50</td>\n",
       "      <td>628</td>\n",
       "      <td>1</td>\n",
       "    </tr>\n",
       "    <tr>\n",
       "      <th>1</th>\n",
       "      <td>2014-08-11 08:22:12</td>\n",
       "      <td>2</td>\n",
       "      <td>3</td>\n",
       "      <td>66</td>\n",
       "      <td>348</td>\n",
       "      <td>48862</td>\n",
       "      <td>2234.2641</td>\n",
       "      <td>12</td>\n",
       "      <td>0</td>\n",
       "      <td>1</td>\n",
       "      <td>...</td>\n",
       "      <td>0</td>\n",
       "      <td>1</td>\n",
       "      <td>8250</td>\n",
       "      <td>1</td>\n",
       "      <td>1</td>\n",
       "      <td>1</td>\n",
       "      <td>2</td>\n",
       "      <td>50</td>\n",
       "      <td>628</td>\n",
       "      <td>1</td>\n",
       "    </tr>\n",
       "    <tr>\n",
       "      <th>2</th>\n",
       "      <td>2014-08-11 08:24:33</td>\n",
       "      <td>2</td>\n",
       "      <td>3</td>\n",
       "      <td>66</td>\n",
       "      <td>348</td>\n",
       "      <td>48862</td>\n",
       "      <td>2234.2641</td>\n",
       "      <td>12</td>\n",
       "      <td>0</td>\n",
       "      <td>0</td>\n",
       "      <td>...</td>\n",
       "      <td>0</td>\n",
       "      <td>1</td>\n",
       "      <td>8250</td>\n",
       "      <td>1</td>\n",
       "      <td>0</td>\n",
       "      <td>1</td>\n",
       "      <td>2</td>\n",
       "      <td>50</td>\n",
       "      <td>628</td>\n",
       "      <td>1</td>\n",
       "    </tr>\n",
       "    <tr>\n",
       "      <th>3</th>\n",
       "      <td>2014-08-09 18:05:16</td>\n",
       "      <td>2</td>\n",
       "      <td>3</td>\n",
       "      <td>66</td>\n",
       "      <td>442</td>\n",
       "      <td>35390</td>\n",
       "      <td>913.1932</td>\n",
       "      <td>93</td>\n",
       "      <td>0</td>\n",
       "      <td>0</td>\n",
       "      <td>...</td>\n",
       "      <td>0</td>\n",
       "      <td>1</td>\n",
       "      <td>14984</td>\n",
       "      <td>1</td>\n",
       "      <td>0</td>\n",
       "      <td>1</td>\n",
       "      <td>2</td>\n",
       "      <td>50</td>\n",
       "      <td>1457</td>\n",
       "      <td>80</td>\n",
       "    </tr>\n",
       "    <tr>\n",
       "      <th>4</th>\n",
       "      <td>2014-08-09 18:08:18</td>\n",
       "      <td>2</td>\n",
       "      <td>3</td>\n",
       "      <td>66</td>\n",
       "      <td>442</td>\n",
       "      <td>35390</td>\n",
       "      <td>913.6259</td>\n",
       "      <td>93</td>\n",
       "      <td>0</td>\n",
       "      <td>0</td>\n",
       "      <td>...</td>\n",
       "      <td>0</td>\n",
       "      <td>1</td>\n",
       "      <td>14984</td>\n",
       "      <td>1</td>\n",
       "      <td>0</td>\n",
       "      <td>1</td>\n",
       "      <td>2</td>\n",
       "      <td>50</td>\n",
       "      <td>1457</td>\n",
       "      <td>21</td>\n",
       "    </tr>\n",
       "  </tbody>\n",
       "</table>\n",
       "<p>5 rows × 24 columns</p>\n",
       "</div>"
      ],
      "text/plain": [
       "             date_time  site_name  posa_continent  user_location_country  \\\n",
       "0  2014-08-11 07:46:59          2               3                     66   \n",
       "1  2014-08-11 08:22:12          2               3                     66   \n",
       "2  2014-08-11 08:24:33          2               3                     66   \n",
       "3  2014-08-09 18:05:16          2               3                     66   \n",
       "4  2014-08-09 18:08:18          2               3                     66   \n",
       "\n",
       "   user_location_region  user_location_city  orig_destination_distance  \\\n",
       "0                   348               48862                  2234.2641   \n",
       "1                   348               48862                  2234.2641   \n",
       "2                   348               48862                  2234.2641   \n",
       "3                   442               35390                   913.1932   \n",
       "4                   442               35390                   913.6259   \n",
       "\n",
       "   user_id  is_mobile  is_package  ...  srch_children_cnt srch_rm_cnt  \\\n",
       "0       12          0           1  ...                  0           1   \n",
       "1       12          0           1  ...                  0           1   \n",
       "2       12          0           0  ...                  0           1   \n",
       "3       93          0           0  ...                  0           1   \n",
       "4       93          0           0  ...                  0           1   \n",
       "\n",
       "  srch_destination_id  srch_destination_type_id  is_booking  cnt  \\\n",
       "0                8250                         1           0    3   \n",
       "1                8250                         1           1    1   \n",
       "2                8250                         1           0    1   \n",
       "3               14984                         1           0    1   \n",
       "4               14984                         1           0    1   \n",
       "\n",
       "   hotel_continent  hotel_country  hotel_market  hotel_cluster  \n",
       "0                2             50           628              1  \n",
       "1                2             50           628              1  \n",
       "2                2             50           628              1  \n",
       "3                2             50          1457             80  \n",
       "4                2             50          1457             21  \n",
       "\n",
       "[5 rows x 24 columns]"
      ]
     },
     "execution_count": 30,
     "metadata": {},
     "output_type": "execute_result"
    }
   ],
   "source": [
    "data.head()"
   ]
  },
  {
   "cell_type": "code",
   "execution_count": 32,
   "metadata": {},
   "outputs": [
    {
     "name": "stdout",
     "output_type": "stream",
     "text": [
      "<class 'pandas.core.frame.DataFrame'>\n",
      "RangeIndex: 37670293 entries, 0 to 37670292\n",
      "Data columns (total 24 columns):\n",
      " #   Column                     Dtype  \n",
      "---  ------                     -----  \n",
      " 0   date_time                  object \n",
      " 1   site_name                  int64  \n",
      " 2   posa_continent             int64  \n",
      " 3   user_location_country      int64  \n",
      " 4   user_location_region       int64  \n",
      " 5   user_location_city         int64  \n",
      " 6   orig_destination_distance  float64\n",
      " 7   user_id                    int64  \n",
      " 8   is_mobile                  int64  \n",
      " 9   is_package                 int64  \n",
      " 10  channel                    int64  \n",
      " 11  srch_ci                    object \n",
      " 12  srch_co                    object \n",
      " 13  srch_adults_cnt            int64  \n",
      " 14  srch_children_cnt          int64  \n",
      " 15  srch_rm_cnt                int64  \n",
      " 16  srch_destination_id        int64  \n",
      " 17  srch_destination_type_id   int64  \n",
      " 18  is_booking                 int64  \n",
      " 19  cnt                        int64  \n",
      " 20  hotel_continent            int64  \n",
      " 21  hotel_country              int64  \n",
      " 22  hotel_market               int64  \n",
      " 23  hotel_cluster              int64  \n",
      "dtypes: float64(1), int64(20), object(3)\n",
      "memory usage: 6.7+ GB\n"
     ]
    }
   ],
   "source": [
    "data.info()"
   ]
  },
  {
   "cell_type": "code",
   "execution_count": 33,
   "metadata": {},
   "outputs": [],
   "source": [
    "data['date_time'] = pd.to_datetime(data['date_time'])\n",
    "#data[\"date_time\"] = data[\"date_time\"].astype(\"datetime64\")\n",
    "#data.groupby(data[\"date_time\"].dt.year).count().plot(kind=\"bar\")"
   ]
  },
  {
   "cell_type": "code",
   "execution_count": 34,
   "metadata": {},
   "outputs": [],
   "source": [
    "df_2014 = data[data['date_time'].dt.year == 2014]"
   ]
  },
  {
   "cell_type": "code",
   "execution_count": 35,
   "metadata": {},
   "outputs": [
    {
     "name": "stdout",
     "output_type": "stream",
     "text": [
      "<class 'pandas.core.frame.DataFrame'>\n",
      "Int64Index: 26483412 entries, 0 to 37670292\n",
      "Data columns (total 24 columns):\n",
      " #   Column                     Dtype         \n",
      "---  ------                     -----         \n",
      " 0   date_time                  datetime64[ns]\n",
      " 1   site_name                  int64         \n",
      " 2   posa_continent             int64         \n",
      " 3   user_location_country      int64         \n",
      " 4   user_location_region       int64         \n",
      " 5   user_location_city         int64         \n",
      " 6   orig_destination_distance  float64       \n",
      " 7   user_id                    int64         \n",
      " 8   is_mobile                  int64         \n",
      " 9   is_package                 int64         \n",
      " 10  channel                    int64         \n",
      " 11  srch_ci                    object        \n",
      " 12  srch_co                    object        \n",
      " 13  srch_adults_cnt            int64         \n",
      " 14  srch_children_cnt          int64         \n",
      " 15  srch_rm_cnt                int64         \n",
      " 16  srch_destination_id        int64         \n",
      " 17  srch_destination_type_id   int64         \n",
      " 18  is_booking                 int64         \n",
      " 19  cnt                        int64         \n",
      " 20  hotel_continent            int64         \n",
      " 21  hotel_country              int64         \n",
      " 22  hotel_market               int64         \n",
      " 23  hotel_cluster              int64         \n",
      "dtypes: datetime64[ns](1), float64(1), int64(20), object(2)\n",
      "memory usage: 4.9+ GB\n"
     ]
    }
   ],
   "source": [
    "df_2014.info()"
   ]
  },
  {
   "cell_type": "code",
   "execution_count": 36,
   "metadata": {},
   "outputs": [
    {
     "name": "stdout",
     "output_type": "stream",
     "text": [
      "2013-01-07 00:00:02\n",
      "2014-12-31 23:59:59\n"
     ]
    }
   ],
   "source": [
    "print(data.date_time.min())\n",
    "print(data.date_time.max())"
   ]
  },
  {
   "cell_type": "code",
   "execution_count": 37,
   "metadata": {},
   "outputs": [],
   "source": [
    "df_2013 = data[data['date_time'].dt.year == 2013]"
   ]
  },
  {
   "cell_type": "code",
   "execution_count": 38,
   "metadata": {},
   "outputs": [
    {
     "name": "stdout",
     "output_type": "stream",
     "text": [
      "<class 'pandas.core.frame.DataFrame'>\n",
      "Int64Index: 11186881 entries, 26 to 37670277\n",
      "Data columns (total 24 columns):\n",
      " #   Column                     Dtype         \n",
      "---  ------                     -----         \n",
      " 0   date_time                  datetime64[ns]\n",
      " 1   site_name                  int64         \n",
      " 2   posa_continent             int64         \n",
      " 3   user_location_country      int64         \n",
      " 4   user_location_region       int64         \n",
      " 5   user_location_city         int64         \n",
      " 6   orig_destination_distance  float64       \n",
      " 7   user_id                    int64         \n",
      " 8   is_mobile                  int64         \n",
      " 9   is_package                 int64         \n",
      " 10  channel                    int64         \n",
      " 11  srch_ci                    object        \n",
      " 12  srch_co                    object        \n",
      " 13  srch_adults_cnt            int64         \n",
      " 14  srch_children_cnt          int64         \n",
      " 15  srch_rm_cnt                int64         \n",
      " 16  srch_destination_id        int64         \n",
      " 17  srch_destination_type_id   int64         \n",
      " 18  is_booking                 int64         \n",
      " 19  cnt                        int64         \n",
      " 20  hotel_continent            int64         \n",
      " 21  hotel_country              int64         \n",
      " 22  hotel_market               int64         \n",
      " 23  hotel_cluster              int64         \n",
      "dtypes: datetime64[ns](1), float64(1), int64(20), object(2)\n",
      "memory usage: 2.1+ GB\n"
     ]
    }
   ],
   "source": [
    "df_2013.info()"
   ]
  },
  {
   "cell_type": "code",
   "execution_count": 40,
   "metadata": {},
   "outputs": [],
   "source": [
    "df_2015 = pd.read_csv(\"Raw_Data/test.csv\")"
   ]
  },
  {
   "cell_type": "code",
   "execution_count": 41,
   "metadata": {},
   "outputs": [
    {
     "name": "stdout",
     "output_type": "stream",
     "text": [
      "2015-01-08 00:00:35\n",
      "2015-12-31 23:58:47\n"
     ]
    }
   ],
   "source": [
    "print(df_2015.date_time.min())\n",
    "print(df_2015.date_time.max())"
   ]
  },
  {
   "cell_type": "code",
   "execution_count": 42,
   "metadata": {},
   "outputs": [
    {
     "name": "stdout",
     "output_type": "stream",
     "text": [
      "<class 'pandas.core.frame.DataFrame'>\n",
      "RangeIndex: 2528243 entries, 0 to 2528242\n",
      "Data columns (total 22 columns):\n",
      " #   Column                     Dtype  \n",
      "---  ------                     -----  \n",
      " 0   id                         int64  \n",
      " 1   date_time                  object \n",
      " 2   site_name                  int64  \n",
      " 3   posa_continent             int64  \n",
      " 4   user_location_country      int64  \n",
      " 5   user_location_region       int64  \n",
      " 6   user_location_city         int64  \n",
      " 7   orig_destination_distance  float64\n",
      " 8   user_id                    int64  \n",
      " 9   is_mobile                  int64  \n",
      " 10  is_package                 int64  \n",
      " 11  channel                    int64  \n",
      " 12  srch_ci                    object \n",
      " 13  srch_co                    object \n",
      " 14  srch_adults_cnt            int64  \n",
      " 15  srch_children_cnt          int64  \n",
      " 16  srch_rm_cnt                int64  \n",
      " 17  srch_destination_id        int64  \n",
      " 18  srch_destination_type_id   int64  \n",
      " 19  hotel_continent            int64  \n",
      " 20  hotel_country              int64  \n",
      " 21  hotel_market               int64  \n",
      "dtypes: float64(1), int64(18), object(3)\n",
      "memory usage: 424.4+ MB\n"
     ]
    }
   ],
   "source": [
    "df_2015.info()"
   ]
  },
  {
   "cell_type": "code",
   "execution_count": null,
   "metadata": {},
   "outputs": [],
   "source": [
    "#Train-Test Split"
   ]
  },
  {
   "cell_type": "code",
   "execution_count": 20,
   "metadata": {},
   "outputs": [],
   "source": [
    "msk = np.random.rand(len(df_2013)) <0.8"
   ]
  },
  {
   "cell_type": "code",
   "execution_count": 21,
   "metadata": {},
   "outputs": [],
   "source": [
    "train = df_2013[msk]"
   ]
  },
  {
   "cell_type": "code",
   "execution_count": 22,
   "metadata": {},
   "outputs": [],
   "source": [
    "test = df_2013[~msk]"
   ]
  }
 ],
 "metadata": {
  "kernelspec": {
   "display_name": "Python 3",
   "language": "python",
   "name": "python3"
  },
  "language_info": {
   "codemirror_mode": {
    "name": "ipython",
    "version": 3
   },
   "file_extension": ".py",
   "mimetype": "text/x-python",
   "name": "python",
   "nbconvert_exporter": "python",
   "pygments_lexer": "ipython3",
   "version": "3.8.3"
  }
 },
 "nbformat": 4,
 "nbformat_minor": 4
}
