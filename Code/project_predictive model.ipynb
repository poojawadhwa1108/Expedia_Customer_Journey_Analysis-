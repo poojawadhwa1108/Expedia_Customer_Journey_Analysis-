{
 "cells": [
  {
   "cell_type": "code",
   "execution_count": 245,
   "metadata": {},
   "outputs": [],
   "source": [
    "import pandas as pd, numpy as np, seaborn as sns\n",
    "from xgboost import XGBClassifier\n",
    "from xgboost import plot_importance\n",
    "from matplotlib import pyplot\n",
    "from sklearn import preprocessing\n",
    "from sklearn.ensemble import ExtraTreesClassifier\n",
    "from sklearn.model_selection import train_test_split\n",
    "from sklearn.ensemble import RandomForestClassifier\n",
    "from sklearn.ensemble import AdaBoostClassifier\n",
    "from sklearn.ensemble import GradientBoostingClassifier\n",
    "from sklearn.ensemble import GradientBoostingRegressor\n",
    "from sklearn.ensemble import RandomForestRegressor\n",
    "from sklearn.neighbors import KNeighborsClassifier\n",
    "from sklearn.svm import SVC\n",
    "from sklearn import model_selection\n",
    "from sklearn import ensemble\n",
    "from sklearn.tree import DecisionTreeClassifier\n",
    "import xgboost as xgb\n",
    "import matplotlib. pyplot as plt\n",
    "from sklearn.model_selection import KFold\n",
    "from sklearn.metrics import accuracy_score\n",
    "from sklearn.metrics import roc_auc_score\n",
    "from sklearn.metrics import precision_score\n",
    "from sklearn.inspection import permutation_importance\n",
    "from xgboost import plot_importance"
   ]
  },
  {
   "cell_type": "code",
   "execution_count": 217,
   "metadata": {},
   "outputs": [
    {
     "ename": "KeyboardInterrupt",
     "evalue": "",
     "output_type": "error",
     "traceback": [
      "\u001b[0;31m---------------------------------------------------------------------------\u001b[0m",
      "\u001b[0;31mKeyboardInterrupt\u001b[0m                         Traceback (most recent call last)",
      "\u001b[0;32m<ipython-input-217-15e0239913a7>\u001b[0m in \u001b[0;36m<module>\u001b[0;34m\u001b[0m\n\u001b[1;32m      1\u001b[0m \u001b[0;31m# load data\u001b[0m\u001b[0;34m\u001b[0m\u001b[0;34m\u001b[0m\u001b[0;34m\u001b[0m\u001b[0m\n\u001b[0;32m----> 2\u001b[0;31m \u001b[0mdf\u001b[0m \u001b[0;34m=\u001b[0m \u001b[0mpd\u001b[0m\u001b[0;34m.\u001b[0m\u001b[0mread_csv\u001b[0m\u001b[0;34m(\u001b[0m\u001b[0;34m'data_2014_final.csv'\u001b[0m\u001b[0;34m)\u001b[0m\u001b[0;34m\u001b[0m\u001b[0;34m\u001b[0m\u001b[0m\n\u001b[0m\u001b[1;32m      3\u001b[0m \u001b[0mdf\u001b[0m\u001b[0;34m.\u001b[0m\u001b[0mhead\u001b[0m\u001b[0;34m(\u001b[0m\u001b[0;34m)\u001b[0m\u001b[0;34m\u001b[0m\u001b[0;34m\u001b[0m\u001b[0m\n",
      "\u001b[0;32m/opt/anaconda3/lib/python3.7/site-packages/pandas/io/parsers.py\u001b[0m in \u001b[0;36mparser_f\u001b[0;34m(filepath_or_buffer, sep, delimiter, header, names, index_col, usecols, squeeze, prefix, mangle_dupe_cols, dtype, engine, converters, true_values, false_values, skipinitialspace, skiprows, skipfooter, nrows, na_values, keep_default_na, na_filter, verbose, skip_blank_lines, parse_dates, infer_datetime_format, keep_date_col, date_parser, dayfirst, cache_dates, iterator, chunksize, compression, thousands, decimal, lineterminator, quotechar, quoting, doublequote, escapechar, comment, encoding, dialect, error_bad_lines, warn_bad_lines, delim_whitespace, low_memory, memory_map, float_precision)\u001b[0m\n\u001b[1;32m    674\u001b[0m         )\n\u001b[1;32m    675\u001b[0m \u001b[0;34m\u001b[0m\u001b[0m\n\u001b[0;32m--> 676\u001b[0;31m         \u001b[0;32mreturn\u001b[0m \u001b[0m_read\u001b[0m\u001b[0;34m(\u001b[0m\u001b[0mfilepath_or_buffer\u001b[0m\u001b[0;34m,\u001b[0m \u001b[0mkwds\u001b[0m\u001b[0;34m)\u001b[0m\u001b[0;34m\u001b[0m\u001b[0;34m\u001b[0m\u001b[0m\n\u001b[0m\u001b[1;32m    677\u001b[0m \u001b[0;34m\u001b[0m\u001b[0m\n\u001b[1;32m    678\u001b[0m     \u001b[0mparser_f\u001b[0m\u001b[0;34m.\u001b[0m\u001b[0m__name__\u001b[0m \u001b[0;34m=\u001b[0m \u001b[0mname\u001b[0m\u001b[0;34m\u001b[0m\u001b[0;34m\u001b[0m\u001b[0m\n",
      "\u001b[0;32m/opt/anaconda3/lib/python3.7/site-packages/pandas/io/parsers.py\u001b[0m in \u001b[0;36m_read\u001b[0;34m(filepath_or_buffer, kwds)\u001b[0m\n\u001b[1;32m    452\u001b[0m \u001b[0;34m\u001b[0m\u001b[0m\n\u001b[1;32m    453\u001b[0m     \u001b[0;32mtry\u001b[0m\u001b[0;34m:\u001b[0m\u001b[0;34m\u001b[0m\u001b[0;34m\u001b[0m\u001b[0m\n\u001b[0;32m--> 454\u001b[0;31m         \u001b[0mdata\u001b[0m \u001b[0;34m=\u001b[0m \u001b[0mparser\u001b[0m\u001b[0;34m.\u001b[0m\u001b[0mread\u001b[0m\u001b[0;34m(\u001b[0m\u001b[0mnrows\u001b[0m\u001b[0;34m)\u001b[0m\u001b[0;34m\u001b[0m\u001b[0;34m\u001b[0m\u001b[0m\n\u001b[0m\u001b[1;32m    455\u001b[0m     \u001b[0;32mfinally\u001b[0m\u001b[0;34m:\u001b[0m\u001b[0;34m\u001b[0m\u001b[0;34m\u001b[0m\u001b[0m\n\u001b[1;32m    456\u001b[0m         \u001b[0mparser\u001b[0m\u001b[0;34m.\u001b[0m\u001b[0mclose\u001b[0m\u001b[0;34m(\u001b[0m\u001b[0;34m)\u001b[0m\u001b[0;34m\u001b[0m\u001b[0;34m\u001b[0m\u001b[0m\n",
      "\u001b[0;32m/opt/anaconda3/lib/python3.7/site-packages/pandas/io/parsers.py\u001b[0m in \u001b[0;36mread\u001b[0;34m(self, nrows)\u001b[0m\n\u001b[1;32m   1131\u001b[0m     \u001b[0;32mdef\u001b[0m \u001b[0mread\u001b[0m\u001b[0;34m(\u001b[0m\u001b[0mself\u001b[0m\u001b[0;34m,\u001b[0m \u001b[0mnrows\u001b[0m\u001b[0;34m=\u001b[0m\u001b[0;32mNone\u001b[0m\u001b[0;34m)\u001b[0m\u001b[0;34m:\u001b[0m\u001b[0;34m\u001b[0m\u001b[0;34m\u001b[0m\u001b[0m\n\u001b[1;32m   1132\u001b[0m         \u001b[0mnrows\u001b[0m \u001b[0;34m=\u001b[0m \u001b[0m_validate_integer\u001b[0m\u001b[0;34m(\u001b[0m\u001b[0;34m\"nrows\"\u001b[0m\u001b[0;34m,\u001b[0m \u001b[0mnrows\u001b[0m\u001b[0;34m)\u001b[0m\u001b[0;34m\u001b[0m\u001b[0;34m\u001b[0m\u001b[0m\n\u001b[0;32m-> 1133\u001b[0;31m         \u001b[0mret\u001b[0m \u001b[0;34m=\u001b[0m \u001b[0mself\u001b[0m\u001b[0;34m.\u001b[0m\u001b[0m_engine\u001b[0m\u001b[0;34m.\u001b[0m\u001b[0mread\u001b[0m\u001b[0;34m(\u001b[0m\u001b[0mnrows\u001b[0m\u001b[0;34m)\u001b[0m\u001b[0;34m\u001b[0m\u001b[0;34m\u001b[0m\u001b[0m\n\u001b[0m\u001b[1;32m   1134\u001b[0m \u001b[0;34m\u001b[0m\u001b[0m\n\u001b[1;32m   1135\u001b[0m         \u001b[0;31m# May alter columns / col_dict\u001b[0m\u001b[0;34m\u001b[0m\u001b[0;34m\u001b[0m\u001b[0;34m\u001b[0m\u001b[0m\n",
      "\u001b[0;32m/opt/anaconda3/lib/python3.7/site-packages/pandas/io/parsers.py\u001b[0m in \u001b[0;36mread\u001b[0;34m(self, nrows)\u001b[0m\n\u001b[1;32m   2035\u001b[0m     \u001b[0;32mdef\u001b[0m \u001b[0mread\u001b[0m\u001b[0;34m(\u001b[0m\u001b[0mself\u001b[0m\u001b[0;34m,\u001b[0m \u001b[0mnrows\u001b[0m\u001b[0;34m=\u001b[0m\u001b[0;32mNone\u001b[0m\u001b[0;34m)\u001b[0m\u001b[0;34m:\u001b[0m\u001b[0;34m\u001b[0m\u001b[0;34m\u001b[0m\u001b[0m\n\u001b[1;32m   2036\u001b[0m         \u001b[0;32mtry\u001b[0m\u001b[0;34m:\u001b[0m\u001b[0;34m\u001b[0m\u001b[0;34m\u001b[0m\u001b[0m\n\u001b[0;32m-> 2037\u001b[0;31m             \u001b[0mdata\u001b[0m \u001b[0;34m=\u001b[0m \u001b[0mself\u001b[0m\u001b[0;34m.\u001b[0m\u001b[0m_reader\u001b[0m\u001b[0;34m.\u001b[0m\u001b[0mread\u001b[0m\u001b[0;34m(\u001b[0m\u001b[0mnrows\u001b[0m\u001b[0;34m)\u001b[0m\u001b[0;34m\u001b[0m\u001b[0;34m\u001b[0m\u001b[0m\n\u001b[0m\u001b[1;32m   2038\u001b[0m         \u001b[0;32mexcept\u001b[0m \u001b[0mStopIteration\u001b[0m\u001b[0;34m:\u001b[0m\u001b[0;34m\u001b[0m\u001b[0;34m\u001b[0m\u001b[0m\n\u001b[1;32m   2039\u001b[0m             \u001b[0;32mif\u001b[0m \u001b[0mself\u001b[0m\u001b[0;34m.\u001b[0m\u001b[0m_first_chunk\u001b[0m\u001b[0;34m:\u001b[0m\u001b[0;34m\u001b[0m\u001b[0;34m\u001b[0m\u001b[0m\n",
      "\u001b[0;32mpandas/_libs/parsers.pyx\u001b[0m in \u001b[0;36mpandas._libs.parsers.TextReader.read\u001b[0;34m()\u001b[0m\n",
      "\u001b[0;32mpandas/_libs/parsers.pyx\u001b[0m in \u001b[0;36mpandas._libs.parsers.TextReader._read_low_memory\u001b[0;34m()\u001b[0m\n",
      "\u001b[0;32mpandas/_libs/parsers.pyx\u001b[0m in \u001b[0;36mpandas._libs.parsers.TextReader._read_rows\u001b[0;34m()\u001b[0m\n",
      "\u001b[0;32mpandas/_libs/parsers.pyx\u001b[0m in \u001b[0;36mpandas._libs.parsers.TextReader._convert_column_data\u001b[0;34m()\u001b[0m\n",
      "\u001b[0;32mpandas/_libs/parsers.pyx\u001b[0m in \u001b[0;36mpandas._libs.parsers.TextReader._convert_tokens\u001b[0;34m()\u001b[0m\n",
      "\u001b[0;32mpandas/_libs/parsers.pyx\u001b[0m in \u001b[0;36mpandas._libs.parsers.TextReader._convert_with_dtype\u001b[0;34m()\u001b[0m\n",
      "\u001b[0;32m/opt/anaconda3/lib/python3.7/site-packages/pandas/core/dtypes/common.py\u001b[0m in \u001b[0;36mis_categorical_dtype\u001b[0;34m(arr_or_dtype)\u001b[0m\n\u001b[1;32m    540\u001b[0m \u001b[0;34m\u001b[0m\u001b[0m\n\u001b[1;32m    541\u001b[0m \u001b[0;34m\u001b[0m\u001b[0m\n\u001b[0;32m--> 542\u001b[0;31m \u001b[0;32mdef\u001b[0m \u001b[0mis_categorical_dtype\u001b[0m\u001b[0;34m(\u001b[0m\u001b[0marr_or_dtype\u001b[0m\u001b[0;34m)\u001b[0m \u001b[0;34m->\u001b[0m \u001b[0mbool\u001b[0m\u001b[0;34m:\u001b[0m\u001b[0;34m\u001b[0m\u001b[0;34m\u001b[0m\u001b[0m\n\u001b[0m\u001b[1;32m    543\u001b[0m     \"\"\"\n\u001b[1;32m    544\u001b[0m     \u001b[0mCheck\u001b[0m \u001b[0mwhether\u001b[0m \u001b[0man\u001b[0m \u001b[0marray\u001b[0m\u001b[0;34m-\u001b[0m\u001b[0mlike\u001b[0m \u001b[0;32mor\u001b[0m \u001b[0mdtype\u001b[0m \u001b[0;32mis\u001b[0m \u001b[0mof\u001b[0m \u001b[0mthe\u001b[0m \u001b[0mCategorical\u001b[0m \u001b[0mdtype\u001b[0m\u001b[0;34m.\u001b[0m\u001b[0;34m\u001b[0m\u001b[0;34m\u001b[0m\u001b[0m\n",
      "\u001b[0;31mKeyboardInterrupt\u001b[0m: "
     ]
    }
   ],
   "source": [
    "# load data\n",
    "df = pd.read_csv('data_2014_final.csv')\n",
    "df.head()"
   ]
  },
  {
   "cell_type": "code",
   "execution_count": 44,
   "metadata": {},
   "outputs": [
    {
     "data": {
      "text/plain": [
       "25"
      ]
     },
     "execution_count": 44,
     "metadata": {},
     "output_type": "execute_result"
    }
   ],
   "source": [
    "len(df.columns)"
   ]
  },
  {
   "cell_type": "code",
   "execution_count": 45,
   "metadata": {},
   "outputs": [
    {
     "data": {
      "text/plain": [
       "Index(['date_time', 'site_name', 'posa_continent', 'user_location_country',\n",
       "       'user_location_region', 'user_location_city',\n",
       "       'orig_destination_distance', 'user_id', 'is_mobile', 'is_package',\n",
       "       'channel', 'srch_ci', 'srch_co', 'srch_adults_cnt', 'srch_children_cnt',\n",
       "       'srch_rm_cnt', 'srch_destination_id', 'srch_destination_type_id',\n",
       "       'is_booking', 'cnt', 'hotel_continent', 'hotel_country', 'hotel_market',\n",
       "       'hotel_cluster', 'duration'],\n",
       "      dtype='object')"
      ]
     },
     "execution_count": 45,
     "metadata": {},
     "output_type": "execute_result"
    }
   ],
   "source": [
    "df.columns"
   ]
  },
  {
   "cell_type": "code",
   "execution_count": 49,
   "metadata": {},
   "outputs": [
    {
     "data": {
      "text/plain": [
       "23173029"
      ]
     },
     "execution_count": 49,
     "metadata": {},
     "output_type": "execute_result"
    }
   ],
   "source": [
    "len(df)"
   ]
  },
  {
   "cell_type": "code",
   "execution_count": 48,
   "metadata": {},
   "outputs": [
    {
     "data": {
      "text/plain": [
       "date_time                          0\n",
       "site_name                          0\n",
       "posa_continent                     0\n",
       "user_location_country              0\n",
       "user_location_region               0\n",
       "user_location_city                 0\n",
       "orig_destination_distance    8186528\n",
       "user_id                            0\n",
       "is_mobile                          0\n",
       "is_package                         0\n",
       "channel                            0\n",
       "srch_ci                            0\n",
       "srch_co                            0\n",
       "srch_adults_cnt                    0\n",
       "srch_children_cnt                  0\n",
       "srch_rm_cnt                        0\n",
       "srch_destination_id                0\n",
       "srch_destination_type_id           0\n",
       "is_booking                         0\n",
       "cnt                                0\n",
       "hotel_continent                    0\n",
       "hotel_country                      0\n",
       "hotel_market                       0\n",
       "hotel_cluster                      0\n",
       "duration                           0\n",
       "dtype: int64"
      ]
     },
     "execution_count": 48,
     "metadata": {},
     "output_type": "execute_result"
    }
   ],
   "source": [
    "df.isnull().sum()"
   ]
  },
  {
   "cell_type": "code",
   "execution_count": 50,
   "metadata": {},
   "outputs": [
    {
     "data": {
      "text/plain": [
       "14986501"
      ]
     },
     "execution_count": 50,
     "metadata": {},
     "output_type": "execute_result"
    }
   ],
   "source": [
    "23173029-8186528"
   ]
  },
  {
   "cell_type": "code",
   "execution_count": 118,
   "metadata": {},
   "outputs": [],
   "source": [
    "df = df.dropna()"
   ]
  },
  {
   "cell_type": "code",
   "execution_count": 52,
   "metadata": {},
   "outputs": [
    {
     "data": {
      "text/plain": [
       "14986501"
      ]
     },
     "execution_count": 52,
     "metadata": {},
     "output_type": "execute_result"
    }
   ],
   "source": [
    "len(df)"
   ]
  },
  {
   "cell_type": "markdown",
   "metadata": {},
   "source": [
    "## Data Preparation"
   ]
  },
  {
   "cell_type": "code",
   "execution_count": 119,
   "metadata": {},
   "outputs": [],
   "source": [
    "# add \"have_kid\" column\n",
    "df['have_kid'] =  df['srch_children_cnt'].apply(lambda x: '0' if x==0 else '1')"
   ]
  },
  {
   "cell_type": "code",
   "execution_count": 120,
   "metadata": {},
   "outputs": [],
   "source": [
    "df['srch_adults_cnt'] = df['srch_adults_cnt'].astype('int')"
   ]
  },
  {
   "cell_type": "code",
   "execution_count": 121,
   "metadata": {},
   "outputs": [],
   "source": [
    "#scaling and transforming\n",
    "\n",
    "tempt_distance = df['orig_destination_distance'].to_numpy()\n",
    "scaled_distance = preprocessing.scale(tempt_distance)\n",
    "tempt = scaled_distance.tolist()\n",
    "df['orig_destination_distance'] = tempt\n",
    "\n",
    "tempt_rooms = df['srch_rm_cnt'].to_numpy()\n",
    "scaled_rooms = preprocessing.scale(tempt_rooms)\n",
    "tempt = scaled_rooms.tolist()\n",
    "df['srch_rm_cnt'] = tempt\n",
    "\n",
    "tempt_cnt = df['cnt'].to_numpy()\n",
    "scaled_cnt = preprocessing.scale(tempt_cnt)\n",
    "tempt = scaled_cnt.tolist()\n",
    "df['cnt'] = tempt\n",
    "\n",
    "tempt_cnt = df['duration'].to_numpy()\n",
    "scaled_cnt = preprocessing.scale(tempt_cnt)\n",
    "tempt = scaled_cnt.tolist()\n",
    "df['duration'] = tempt\n",
    "\n",
    "tempt_cnt = df['srch_adults_cnt'].to_numpy()\n",
    "scaled_cnt = preprocessing.scale(tempt_cnt)\n",
    "tempt = scaled_cnt.tolist()\n",
    "df['srch_adults_cnt'] = tempt"
   ]
  },
  {
   "cell_type": "code",
   "execution_count": 122,
   "metadata": {},
   "outputs": [],
   "source": [
    "df['user_location_city'] = df['user_location_city'].astype('category')\n",
    "df['hotel_country'] = pd.Categorical(df.hotel_country)\n",
    "df['site_name'] = pd.Categorical(df.site_name)\n",
    "df['channel'] = pd.Categorical(df.channel)\n",
    "df['hotel_cluster'] = pd.Categorical(df.hotel_cluster)\n",
    "df['is_mobile'] = pd.Categorical(df.hotel_cluster)\n",
    "df['is_package'] = pd.Categorical(df.hotel_cluster)"
   ]
  },
  {
   "cell_type": "code",
   "execution_count": 64,
   "metadata": {},
   "outputs": [
    {
     "name": "stdout",
     "output_type": "stream",
     "text": [
      "Unique values in user_location_city:\n",
      "9381\n",
      "\n",
      "\n",
      "Unique values in hotel_country:\n",
      "210\n",
      "\n",
      "\n",
      "Unique values in site_name:\n",
      "42\n",
      "\n",
      "\n",
      "Unique values in channel:\n",
      "11\n",
      "\n",
      "\n",
      "Unique values in hotel_cluster:\n",
      "100\n",
      "\n",
      "\n",
      "Unique values in srch_adults_cnt:\n",
      "100\n",
      "\n",
      "\n"
     ]
    }
   ],
   "source": [
    "s = ['user_location_city','hotel_country','site_name','channel','hotel_cluster']\n",
    "for i in s:\n",
    "    print('Unique values in '+str(i)+':')\n",
    "    print(df[i].nunique())\n",
    "    print('\\n')"
   ]
  },
  {
   "cell_type": "code",
   "execution_count": 32,
   "metadata": {},
   "outputs": [
    {
     "data": {
      "text/html": [
       "<div>\n",
       "<style scoped>\n",
       "    .dataframe tbody tr th:only-of-type {\n",
       "        vertical-align: middle;\n",
       "    }\n",
       "\n",
       "    .dataframe tbody tr th {\n",
       "        vertical-align: top;\n",
       "    }\n",
       "\n",
       "    .dataframe thead th {\n",
       "        text-align: right;\n",
       "    }\n",
       "</style>\n",
       "<table border=\"1\" class=\"dataframe\">\n",
       "  <thead>\n",
       "    <tr style=\"text-align: right;\">\n",
       "      <th></th>\n",
       "      <th>user_location_country</th>\n",
       "      <th>user_location_city</th>\n",
       "      <th>orig_destination_distance</th>\n",
       "      <th>user_id</th>\n",
       "      <th>is_mobile</th>\n",
       "      <th>is_package</th>\n",
       "      <th>srch_ci</th>\n",
       "      <th>srch_co</th>\n",
       "      <th>srch_adults_cnt</th>\n",
       "      <th>srch_children_cnt</th>\n",
       "      <th>...</th>\n",
       "      <th>marketing_channel_1</th>\n",
       "      <th>marketing_channel_2</th>\n",
       "      <th>marketing_channel_3</th>\n",
       "      <th>marketing_channel_4</th>\n",
       "      <th>marketing_channel_5</th>\n",
       "      <th>marketing_channel_6</th>\n",
       "      <th>marketing_channel_7</th>\n",
       "      <th>marketing_channel_8</th>\n",
       "      <th>marketing_channel_9</th>\n",
       "      <th>marketing_channel_10</th>\n",
       "    </tr>\n",
       "  </thead>\n",
       "  <tbody>\n",
       "    <tr>\n",
       "      <th>0</th>\n",
       "      <td>66</td>\n",
       "      <td>48862</td>\n",
       "      <td>2234.2641</td>\n",
       "      <td>12</td>\n",
       "      <td>0</td>\n",
       "      <td>1</td>\n",
       "      <td>2014-08-27</td>\n",
       "      <td>2014-08-31</td>\n",
       "      <td>2</td>\n",
       "      <td>0</td>\n",
       "      <td>...</td>\n",
       "      <td>0</td>\n",
       "      <td>0</td>\n",
       "      <td>0</td>\n",
       "      <td>0</td>\n",
       "      <td>0</td>\n",
       "      <td>0</td>\n",
       "      <td>0</td>\n",
       "      <td>0</td>\n",
       "      <td>1</td>\n",
       "      <td>0</td>\n",
       "    </tr>\n",
       "    <tr>\n",
       "      <th>1</th>\n",
       "      <td>66</td>\n",
       "      <td>48862</td>\n",
       "      <td>2234.2641</td>\n",
       "      <td>12</td>\n",
       "      <td>0</td>\n",
       "      <td>1</td>\n",
       "      <td>2014-08-29</td>\n",
       "      <td>2014-09-02</td>\n",
       "      <td>2</td>\n",
       "      <td>0</td>\n",
       "      <td>...</td>\n",
       "      <td>0</td>\n",
       "      <td>0</td>\n",
       "      <td>0</td>\n",
       "      <td>0</td>\n",
       "      <td>0</td>\n",
       "      <td>0</td>\n",
       "      <td>0</td>\n",
       "      <td>0</td>\n",
       "      <td>1</td>\n",
       "      <td>0</td>\n",
       "    </tr>\n",
       "    <tr>\n",
       "      <th>2</th>\n",
       "      <td>66</td>\n",
       "      <td>48862</td>\n",
       "      <td>2234.2641</td>\n",
       "      <td>12</td>\n",
       "      <td>0</td>\n",
       "      <td>0</td>\n",
       "      <td>2014-08-29</td>\n",
       "      <td>2014-09-02</td>\n",
       "      <td>2</td>\n",
       "      <td>0</td>\n",
       "      <td>...</td>\n",
       "      <td>0</td>\n",
       "      <td>0</td>\n",
       "      <td>0</td>\n",
       "      <td>0</td>\n",
       "      <td>0</td>\n",
       "      <td>0</td>\n",
       "      <td>0</td>\n",
       "      <td>0</td>\n",
       "      <td>1</td>\n",
       "      <td>0</td>\n",
       "    </tr>\n",
       "    <tr>\n",
       "      <th>3</th>\n",
       "      <td>66</td>\n",
       "      <td>35390</td>\n",
       "      <td>913.1932</td>\n",
       "      <td>93</td>\n",
       "      <td>0</td>\n",
       "      <td>0</td>\n",
       "      <td>2014-11-23</td>\n",
       "      <td>2014-11-28</td>\n",
       "      <td>2</td>\n",
       "      <td>0</td>\n",
       "      <td>...</td>\n",
       "      <td>0</td>\n",
       "      <td>0</td>\n",
       "      <td>1</td>\n",
       "      <td>0</td>\n",
       "      <td>0</td>\n",
       "      <td>0</td>\n",
       "      <td>0</td>\n",
       "      <td>0</td>\n",
       "      <td>0</td>\n",
       "      <td>0</td>\n",
       "    </tr>\n",
       "    <tr>\n",
       "      <th>4</th>\n",
       "      <td>66</td>\n",
       "      <td>35390</td>\n",
       "      <td>913.6259</td>\n",
       "      <td>93</td>\n",
       "      <td>0</td>\n",
       "      <td>0</td>\n",
       "      <td>2014-11-23</td>\n",
       "      <td>2014-11-28</td>\n",
       "      <td>2</td>\n",
       "      <td>0</td>\n",
       "      <td>...</td>\n",
       "      <td>0</td>\n",
       "      <td>0</td>\n",
       "      <td>1</td>\n",
       "      <td>0</td>\n",
       "      <td>0</td>\n",
       "      <td>0</td>\n",
       "      <td>0</td>\n",
       "      <td>0</td>\n",
       "      <td>0</td>\n",
       "      <td>0</td>\n",
       "    </tr>\n",
       "  </tbody>\n",
       "</table>\n",
       "<p>5 rows × 73 columns</p>\n",
       "</div>"
      ],
      "text/plain": [
       "  user_location_country user_location_city  orig_destination_distance  \\\n",
       "0                    66              48862                  2234.2641   \n",
       "1                    66              48862                  2234.2641   \n",
       "2                    66              48862                  2234.2641   \n",
       "3                    66              35390                   913.1932   \n",
       "4                    66              35390                   913.6259   \n",
       "\n",
       "   user_id  is_mobile  is_package     srch_ci     srch_co  srch_adults_cnt  \\\n",
       "0       12          0           1  2014-08-27  2014-08-31                2   \n",
       "1       12          0           1  2014-08-29  2014-09-02                2   \n",
       "2       12          0           0  2014-08-29  2014-09-02                2   \n",
       "3       93          0           0  2014-11-23  2014-11-28                2   \n",
       "4       93          0           0  2014-11-23  2014-11-28                2   \n",
       "\n",
       "   srch_children_cnt  ...  marketing_channel_1  marketing_channel_2  \\\n",
       "0                  0  ...                    0                    0   \n",
       "1                  0  ...                    0                    0   \n",
       "2                  0  ...                    0                    0   \n",
       "3                  0  ...                    0                    0   \n",
       "4                  0  ...                    0                    0   \n",
       "\n",
       "   marketing_channel_3  marketing_channel_4  marketing_channel_5  \\\n",
       "0                    0                    0                    0   \n",
       "1                    0                    0                    0   \n",
       "2                    0                    0                    0   \n",
       "3                    1                    0                    0   \n",
       "4                    1                    0                    0   \n",
       "\n",
       "  marketing_channel_6 marketing_channel_7  marketing_channel_8  \\\n",
       "0                   0                   0                    0   \n",
       "1                   0                   0                    0   \n",
       "2                   0                   0                    0   \n",
       "3                   0                   0                    0   \n",
       "4                   0                   0                    0   \n",
       "\n",
       "   marketing_channel_9  marketing_channel_10  \n",
       "0                    1                     0  \n",
       "1                    1                     0  \n",
       "2                    1                     0  \n",
       "3                    0                     0  \n",
       "4                    0                     0  \n",
       "\n",
       "[5 rows x 73 columns]"
      ]
     },
     "execution_count": 32,
     "metadata": {},
     "output_type": "execute_result"
    }
   ],
   "source": [
    "#dummy variable\n",
    "\n",
    "df = pd.get_dummies(df, prefix='site_name', prefix_sep='_', \n",
    "                            columns=['site_name'])\n",
    "df = pd.get_dummies(df, prefix='marketing_channel', prefix_sep='_', \n",
    "                            columns=['channel'])\n",
    "df = pd.get_dummies(df, prefix='adult_count', prefix_sep='_', \n",
    "                            columns=['srch_adults_cnt'])\n",
    "\n",
    "df.head()\n",
    "#the columns that dummy variables derived from are deleted"
   ]
  },
  {
   "cell_type": "code",
   "execution_count": 123,
   "metadata": {},
   "outputs": [],
   "source": [
    "#drop\n",
    "df = df.drop(['srch_children_cnt','user_location_region','hotel_continent','hotel_market','date_time','posa_continent',\n",
    "             'srch_destination_type_id','user_location_country',\n",
    "             'srch_ci','srch_co','user_location_city','hotel_country'],axis=1)"
   ]
  },
  {
   "cell_type": "markdown",
   "metadata": {},
   "source": [
    "## Create Subset "
   ]
  },
  {
   "cell_type": "code",
   "execution_count": 101,
   "metadata": {},
   "outputs": [
    {
     "data": {
      "text/plain": [
       "14986501"
      ]
     },
     "execution_count": 101,
     "metadata": {},
     "output_type": "execute_result"
    }
   ],
   "source": [
    "len(df)"
   ]
  },
  {
   "cell_type": "markdown",
   "metadata": {},
   "source": [
    "### Most Popular Hotel"
   ]
  },
  {
   "cell_type": "code",
   "execution_count": 152,
   "metadata": {},
   "outputs": [],
   "source": [
    "df_filt = df.groupby(by = 'srch_destination_id').count().sort_values(by=['user_id'],ascending = False).head(1000)"
   ]
  },
  {
   "cell_type": "code",
   "execution_count": 154,
   "metadata": {},
   "outputs": [
    {
     "data": {
      "text/html": [
       "<div>\n",
       "<style scoped>\n",
       "    .dataframe tbody tr th:only-of-type {\n",
       "        vertical-align: middle;\n",
       "    }\n",
       "\n",
       "    .dataframe tbody tr th {\n",
       "        vertical-align: top;\n",
       "    }\n",
       "\n",
       "    .dataframe thead th {\n",
       "        text-align: right;\n",
       "    }\n",
       "</style>\n",
       "<table border=\"1\" class=\"dataframe\">\n",
       "  <thead>\n",
       "    <tr style=\"text-align: right;\">\n",
       "      <th></th>\n",
       "      <th>site_name</th>\n",
       "      <th>orig_destination_distance</th>\n",
       "      <th>user_id</th>\n",
       "      <th>is_mobile</th>\n",
       "      <th>is_package</th>\n",
       "      <th>channel</th>\n",
       "      <th>srch_adults_cnt</th>\n",
       "      <th>srch_rm_cnt</th>\n",
       "      <th>is_booking</th>\n",
       "      <th>cnt</th>\n",
       "      <th>hotel_country</th>\n",
       "      <th>hotel_cluster</th>\n",
       "      <th>duration</th>\n",
       "      <th>have_kid</th>\n",
       "      <th>pop_hotel</th>\n",
       "    </tr>\n",
       "    <tr>\n",
       "      <th>srch_destination_id</th>\n",
       "      <th></th>\n",
       "      <th></th>\n",
       "      <th></th>\n",
       "      <th></th>\n",
       "      <th></th>\n",
       "      <th></th>\n",
       "      <th></th>\n",
       "      <th></th>\n",
       "      <th></th>\n",
       "      <th></th>\n",
       "      <th></th>\n",
       "      <th></th>\n",
       "      <th></th>\n",
       "      <th></th>\n",
       "      <th></th>\n",
       "    </tr>\n",
       "  </thead>\n",
       "  <tbody>\n",
       "    <tr>\n",
       "      <th>8250</th>\n",
       "      <td>669842</td>\n",
       "      <td>669842</td>\n",
       "      <td>669842</td>\n",
       "      <td>669842</td>\n",
       "      <td>669842</td>\n",
       "      <td>669842</td>\n",
       "      <td>669842</td>\n",
       "      <td>669842</td>\n",
       "      <td>669842</td>\n",
       "      <td>669842</td>\n",
       "      <td>669842</td>\n",
       "      <td>669842</td>\n",
       "      <td>669842</td>\n",
       "      <td>669842</td>\n",
       "      <td>669842</td>\n",
       "    </tr>\n",
       "    <tr>\n",
       "      <th>8267</th>\n",
       "      <td>432560</td>\n",
       "      <td>432560</td>\n",
       "      <td>432560</td>\n",
       "      <td>432560</td>\n",
       "      <td>432560</td>\n",
       "      <td>432560</td>\n",
       "      <td>432560</td>\n",
       "      <td>432560</td>\n",
       "      <td>432560</td>\n",
       "      <td>432560</td>\n",
       "      <td>432560</td>\n",
       "      <td>432560</td>\n",
       "      <td>432560</td>\n",
       "      <td>432560</td>\n",
       "      <td>432560</td>\n",
       "    </tr>\n",
       "    <tr>\n",
       "      <th>8791</th>\n",
       "      <td>273304</td>\n",
       "      <td>273304</td>\n",
       "      <td>273304</td>\n",
       "      <td>273304</td>\n",
       "      <td>273304</td>\n",
       "      <td>273304</td>\n",
       "      <td>273304</td>\n",
       "      <td>273304</td>\n",
       "      <td>273304</td>\n",
       "      <td>273304</td>\n",
       "      <td>273304</td>\n",
       "      <td>273304</td>\n",
       "      <td>273304</td>\n",
       "      <td>273304</td>\n",
       "      <td>273304</td>\n",
       "    </tr>\n",
       "    <tr>\n",
       "      <th>8268</th>\n",
       "      <td>236346</td>\n",
       "      <td>236346</td>\n",
       "      <td>236346</td>\n",
       "      <td>236346</td>\n",
       "      <td>236346</td>\n",
       "      <td>236346</td>\n",
       "      <td>236346</td>\n",
       "      <td>236346</td>\n",
       "      <td>236346</td>\n",
       "      <td>236346</td>\n",
       "      <td>236346</td>\n",
       "      <td>236346</td>\n",
       "      <td>236346</td>\n",
       "      <td>236346</td>\n",
       "      <td>236346</td>\n",
       "    </tr>\n",
       "    <tr>\n",
       "      <th>8279</th>\n",
       "      <td>219338</td>\n",
       "      <td>219338</td>\n",
       "      <td>219338</td>\n",
       "      <td>219338</td>\n",
       "      <td>219338</td>\n",
       "      <td>219338</td>\n",
       "      <td>219338</td>\n",
       "      <td>219338</td>\n",
       "      <td>219338</td>\n",
       "      <td>219338</td>\n",
       "      <td>219338</td>\n",
       "      <td>219338</td>\n",
       "      <td>219338</td>\n",
       "      <td>219338</td>\n",
       "      <td>219338</td>\n",
       "    </tr>\n",
       "    <tr>\n",
       "      <th>12206</th>\n",
       "      <td>162576</td>\n",
       "      <td>162576</td>\n",
       "      <td>162576</td>\n",
       "      <td>162576</td>\n",
       "      <td>162576</td>\n",
       "      <td>162576</td>\n",
       "      <td>162576</td>\n",
       "      <td>162576</td>\n",
       "      <td>162576</td>\n",
       "      <td>162576</td>\n",
       "      <td>162576</td>\n",
       "      <td>162576</td>\n",
       "      <td>162576</td>\n",
       "      <td>162576</td>\n",
       "      <td>162576</td>\n",
       "    </tr>\n",
       "    <tr>\n",
       "      <th>8278</th>\n",
       "      <td>161855</td>\n",
       "      <td>161855</td>\n",
       "      <td>161855</td>\n",
       "      <td>161855</td>\n",
       "      <td>161855</td>\n",
       "      <td>161855</td>\n",
       "      <td>161855</td>\n",
       "      <td>161855</td>\n",
       "      <td>161855</td>\n",
       "      <td>161855</td>\n",
       "      <td>161855</td>\n",
       "      <td>161855</td>\n",
       "      <td>161855</td>\n",
       "      <td>161855</td>\n",
       "      <td>161855</td>\n",
       "    </tr>\n",
       "    <tr>\n",
       "      <th>8745</th>\n",
       "      <td>151922</td>\n",
       "      <td>151922</td>\n",
       "      <td>151922</td>\n",
       "      <td>151922</td>\n",
       "      <td>151922</td>\n",
       "      <td>151922</td>\n",
       "      <td>151922</td>\n",
       "      <td>151922</td>\n",
       "      <td>151922</td>\n",
       "      <td>151922</td>\n",
       "      <td>151922</td>\n",
       "      <td>151922</td>\n",
       "      <td>151922</td>\n",
       "      <td>151922</td>\n",
       "      <td>151922</td>\n",
       "    </tr>\n",
       "    <tr>\n",
       "      <th>11439</th>\n",
       "      <td>151588</td>\n",
       "      <td>151588</td>\n",
       "      <td>151588</td>\n",
       "      <td>151588</td>\n",
       "      <td>151588</td>\n",
       "      <td>151588</td>\n",
       "      <td>151588</td>\n",
       "      <td>151588</td>\n",
       "      <td>151588</td>\n",
       "      <td>151588</td>\n",
       "      <td>151588</td>\n",
       "      <td>151588</td>\n",
       "      <td>151588</td>\n",
       "      <td>151588</td>\n",
       "      <td>151588</td>\n",
       "    </tr>\n",
       "    <tr>\n",
       "      <th>8260</th>\n",
       "      <td>151504</td>\n",
       "      <td>151504</td>\n",
       "      <td>151504</td>\n",
       "      <td>151504</td>\n",
       "      <td>151504</td>\n",
       "      <td>151504</td>\n",
       "      <td>151504</td>\n",
       "      <td>151504</td>\n",
       "      <td>151504</td>\n",
       "      <td>151504</td>\n",
       "      <td>151504</td>\n",
       "      <td>151504</td>\n",
       "      <td>151504</td>\n",
       "      <td>151504</td>\n",
       "      <td>151504</td>\n",
       "    </tr>\n",
       "  </tbody>\n",
       "</table>\n",
       "</div>"
      ],
      "text/plain": [
       "                     site_name  orig_destination_distance  user_id  is_mobile  \\\n",
       "srch_destination_id                                                             \n",
       "8250                    669842                     669842   669842     669842   \n",
       "8267                    432560                     432560   432560     432560   \n",
       "8791                    273304                     273304   273304     273304   \n",
       "8268                    236346                     236346   236346     236346   \n",
       "8279                    219338                     219338   219338     219338   \n",
       "12206                   162576                     162576   162576     162576   \n",
       "8278                    161855                     161855   161855     161855   \n",
       "8745                    151922                     151922   151922     151922   \n",
       "11439                   151588                     151588   151588     151588   \n",
       "8260                    151504                     151504   151504     151504   \n",
       "\n",
       "                     is_package  channel  srch_adults_cnt  srch_rm_cnt  \\\n",
       "srch_destination_id                                                      \n",
       "8250                     669842   669842           669842       669842   \n",
       "8267                     432560   432560           432560       432560   \n",
       "8791                     273304   273304           273304       273304   \n",
       "8268                     236346   236346           236346       236346   \n",
       "8279                     219338   219338           219338       219338   \n",
       "12206                    162576   162576           162576       162576   \n",
       "8278                     161855   161855           161855       161855   \n",
       "8745                     151922   151922           151922       151922   \n",
       "11439                    151588   151588           151588       151588   \n",
       "8260                     151504   151504           151504       151504   \n",
       "\n",
       "                     is_booking     cnt  hotel_country  hotel_cluster  \\\n",
       "srch_destination_id                                                     \n",
       "8250                     669842  669842         669842         669842   \n",
       "8267                     432560  432560         432560         432560   \n",
       "8791                     273304  273304         273304         273304   \n",
       "8268                     236346  236346         236346         236346   \n",
       "8279                     219338  219338         219338         219338   \n",
       "12206                    162576  162576         162576         162576   \n",
       "8278                     161855  161855         161855         161855   \n",
       "8745                     151922  151922         151922         151922   \n",
       "11439                    151588  151588         151588         151588   \n",
       "8260                     151504  151504         151504         151504   \n",
       "\n",
       "                     duration  have_kid  pop_hotel  \n",
       "srch_destination_id                                 \n",
       "8250                   669842    669842     669842  \n",
       "8267                   432560    432560     432560  \n",
       "8791                   273304    273304     273304  \n",
       "8268                   236346    236346     236346  \n",
       "8279                   219338    219338     219338  \n",
       "12206                  162576    162576     162576  \n",
       "8278                   161855    161855     161855  \n",
       "8745                   151922    151922     151922  \n",
       "11439                  151588    151588     151588  \n",
       "8260                   151504    151504     151504  "
      ]
     },
     "execution_count": 154,
     "metadata": {},
     "output_type": "execute_result"
    }
   ],
   "source": [
    "df_filt.head(10)"
   ]
  },
  {
   "cell_type": "code",
   "execution_count": 137,
   "metadata": {},
   "outputs": [],
   "source": [
    "pop_hotel = list(df_filt.index)"
   ]
  },
  {
   "cell_type": "code",
   "execution_count": 140,
   "metadata": {},
   "outputs": [],
   "source": [
    "df['pop_hotel'] = df['srch_destination_id'].apply(lambda x: '1' if x in pop_hotel else '0')"
   ]
  },
  {
   "cell_type": "code",
   "execution_count": 141,
   "metadata": {},
   "outputs": [],
   "source": [
    "df = df[df.pop_hotel=='1']"
   ]
  },
  {
   "cell_type": "code",
   "execution_count": 155,
   "metadata": {},
   "outputs": [
    {
     "data": {
      "text/plain": [
       "14954885"
      ]
     },
     "execution_count": 155,
     "metadata": {},
     "output_type": "execute_result"
    }
   ],
   "source": [
    "len(df)"
   ]
  },
  {
   "cell_type": "markdown",
   "metadata": {},
   "source": [
    "#### Hotels that visited times < 5 have been deleted"
   ]
  },
  {
   "cell_type": "markdown",
   "metadata": {},
   "source": [
    "### Active Customers\n",
    "Top 1000 visitors will be in dataset"
   ]
  },
  {
   "cell_type": "code",
   "execution_count": 190,
   "metadata": {},
   "outputs": [],
   "source": [
    "df2 = df.groupby(['user_id']).count().sort_values(by=['is_mobile'],ascending = False).head(1000)"
   ]
  },
  {
   "cell_type": "code",
   "execution_count": 191,
   "metadata": {},
   "outputs": [
    {
     "data": {
      "text/plain": [
       "1000"
      ]
     },
     "execution_count": 191,
     "metadata": {},
     "output_type": "execute_result"
    }
   ],
   "source": [
    "len(df2)"
   ]
  },
  {
   "cell_type": "code",
   "execution_count": 192,
   "metadata": {},
   "outputs": [],
   "source": [
    "act_cus = list(df2.index)"
   ]
  },
  {
   "cell_type": "code",
   "execution_count": 193,
   "metadata": {},
   "outputs": [],
   "source": [
    "df_act = df"
   ]
  },
  {
   "cell_type": "code",
   "execution_count": 194,
   "metadata": {},
   "outputs": [],
   "source": [
    "df_act['active_cust'] = df_act['user_id'].apply(lambda x: '1' if x in act_cus else '0')"
   ]
  },
  {
   "cell_type": "code",
   "execution_count": 196,
   "metadata": {},
   "outputs": [
    {
     "data": {
      "text/plain": [
       "280958"
      ]
     },
     "execution_count": 196,
     "metadata": {},
     "output_type": "execute_result"
    }
   ],
   "source": [
    "df_act = df_act[df_act.active_cust == '1']\n",
    "len(df_act)"
   ]
  },
  {
   "cell_type": "code",
   "execution_count": 197,
   "metadata": {},
   "outputs": [],
   "source": [
    "df = df_act\n",
    "df = df.drop(['user_id','srch_destination_id','pop_hotel','active_cust'],axis=1)"
   ]
  },
  {
   "cell_type": "markdown",
   "metadata": {},
   "source": [
    "## Features Remained"
   ]
  },
  {
   "cell_type": "code",
   "execution_count": 201,
   "metadata": {},
   "outputs": [
    {
     "data": {
      "text/plain": [
       "12"
      ]
     },
     "execution_count": 201,
     "metadata": {},
     "output_type": "execute_result"
    }
   ],
   "source": [
    "len(df.columns)"
   ]
  },
  {
   "cell_type": "code",
   "execution_count": 204,
   "metadata": {},
   "outputs": [
    {
     "data": {
      "text/plain": [
       "280958"
      ]
     },
     "execution_count": 204,
     "metadata": {},
     "output_type": "execute_result"
    }
   ],
   "source": [
    "len(df)"
   ]
  },
  {
   "cell_type": "code",
   "execution_count": 202,
   "metadata": {},
   "outputs": [
    {
     "data": {
      "text/plain": [
       "Index(['site_name', 'orig_destination_distance', 'is_mobile', 'is_package',\n",
       "       'channel', 'srch_adults_cnt', 'srch_rm_cnt', 'is_booking', 'cnt',\n",
       "       'hotel_cluster', 'duration', 'have_kid'],\n",
       "      dtype='object')"
      ]
     },
     "execution_count": 202,
     "metadata": {},
     "output_type": "execute_result"
    }
   ],
   "source": [
    "df.columns"
   ]
  },
  {
   "cell_type": "code",
   "execution_count": 262,
   "metadata": {},
   "outputs": [],
   "source": [
    "df['have_kid'] = df['have_kid'].astype('category')"
   ]
  },
  {
   "cell_type": "code",
   "execution_count": 274,
   "metadata": {},
   "outputs": [
    {
     "name": "stdout",
     "output_type": "stream",
     "text": [
      "data type ofsite_name:\n",
      "category\n",
      "\n",
      "\n",
      "data type oforig_destination_distance:\n",
      "float64\n",
      "\n",
      "\n",
      "data type ofis_mobile:\n",
      "category\n",
      "\n",
      "\n",
      "data type ofis_package:\n",
      "category\n",
      "\n",
      "\n",
      "data type ofchannel:\n",
      "category\n",
      "\n",
      "\n",
      "data type ofsrch_adults_cnt:\n",
      "float64\n",
      "\n",
      "\n",
      "data type ofsrch_rm_cnt:\n",
      "float64\n",
      "\n",
      "\n",
      "data type ofis_booking:\n",
      "int64\n",
      "\n",
      "\n",
      "data type ofcnt:\n",
      "float64\n",
      "\n",
      "\n",
      "data type ofhotel_cluster:\n",
      "category\n",
      "\n",
      "\n",
      "data type ofduration:\n",
      "float64\n",
      "\n",
      "\n",
      "data type ofhave_kid:\n",
      "category\n",
      "\n",
      "\n"
     ]
    }
   ],
   "source": [
    "t= list(df.columns)\n",
    "for i in t:\n",
    "    print('data type of'+i+':')\n",
    "    print(df[i].dtype)\n",
    "    print('\\n')"
   ]
  },
  {
   "cell_type": "markdown",
   "metadata": {},
   "source": [
    "## Correlation Matrix with Heatmap\n",
    "If found two explanatory variables are too related, will choose either one of them."
   ]
  },
  {
   "cell_type": "code",
   "execution_count": 263,
   "metadata": {},
   "outputs": [
    {
     "data": {
      "image/png": "[encoded data removed]",
      "text/plain": [
       "<Figure size 1080x1080 with 2 Axes>"
      ]
     },
     "metadata": {
      "needs_background": "light"
     },
     "output_type": "display_data"
    }
   ],
   "source": [
    "X = df.drop(['is_booking'],axis=1) #independent columns\n",
    "y = df[['is_booking']]    #target column \n",
    "#get correlations of each features in dataset\n",
    "corrmat = df.corr()\n",
    "top_corr_features = corrmat.index\n",
    "plt.figure(figsize=(15,15))\n",
    "#plot heat map\n",
    "g=sns.heatmap(df[top_corr_features].corr(),annot=True,cmap='Purples')"
   ]
  },
  {
   "cell_type": "markdown",
   "metadata": {},
   "source": [
    "#### Conclusion: all variables are not correlated to each others, can put all of them into the model"
   ]
  },
  {
   "cell_type": "markdown",
   "metadata": {},
   "source": [
    "## Predictive Model"
   ]
  },
  {
   "cell_type": "code",
   "execution_count": 264,
   "metadata": {},
   "outputs": [],
   "source": [
    "x_train, x_test, y_train, y_test = train_test_split(X, y, test_size=0.3)"
   ]
  },
  {
   "cell_type": "code",
   "execution_count": 265,
   "metadata": {},
   "outputs": [],
   "source": [
    "rf = RandomForestClassifier(n_estimators = 500, warm_start = True, max_features ='sqrt',max_depth = 6,n_jobs = -1,verbose=0)\n",
    "ada = AdaBoostClassifier(n_estimators = 500,learning_rate=0.1)\n",
    "et = ExtraTreesClassifier(n_estimators = 500, n_jobs = -1, max_depth=8,min_samples_leaf = 2, verbose = 0)\n",
    "gb = GradientBoostingClassifier(n_estimators = 500,learning_rate=0.008,min_samples_split = 3,min_samples_leaf = 2, max_depth = 5)\n",
    "dt = DecisionTreeClassifier(max_depth=8)"
   ]
  },
  {
   "cell_type": "code",
   "execution_count": 266,
   "metadata": {},
   "outputs": [],
   "source": [
    "x_trainmodel = x_train.values\n",
    "x_testmodel = x_test.values\n",
    "y_trainmodel = y_train.values"
   ]
  },
  {
   "cell_type": "code",
   "execution_count": 267,
   "metadata": {},
   "outputs": [
    {
     "name": "stderr",
     "output_type": "stream",
     "text": [
      "/opt/anaconda3/lib/python3.7/site-packages/sklearn/model_selection/_split.py:297: FutureWarning: Setting a random_state has no effect since shuffle is False. This will raise an error in 0.24. You should leave random_state to its default (None), or set shuffle=True.\n",
      "  FutureWarning\n"
     ]
    }
   ],
   "source": [
    "#k-fold\n",
    "ntrain = x_train.shape[0]\n",
    "ntest = x_test.shape[0]\n",
    "SEED = 0\n",
    "NFOLDS = 7\n",
    "kf = KFold(n_splits = NFOLDS, random_state = SEED,shuffle = False)"
   ]
  },
  {
   "cell_type": "code",
   "execution_count": 268,
   "metadata": {},
   "outputs": [],
   "source": [
    "def get_out_fold(clf, x_trainmodel,y_trainmodel,x_testmodel):\n",
    "    oof_train = np.zeros((ntrain,))\n",
    "    oof_test  =np.zeros((ntest,))\n",
    "    oof_test_skf = np.empty((NFOLDS,ntest))\n",
    "    for i, (train_index, test_index) in enumerate(kf.split(x_trainmodel)):\n",
    "        x_tr = x_trainmodel[train_index]\n",
    "        y_tr = y_trainmodel[train_index]\n",
    "        x_te = x_trainmodel[test_index]\n",
    "        clf.fit(x_tr,y_tr)\n",
    "        oof_train[test_index] = clf.predict(x_te)\n",
    "        oof_test_skf[i, :] = clf.predict(x_test)\n",
    "    oof_test[:] = oof_test_skf.mean(axis=0)\n",
    "    return oof_train.reshape(-1,1), oof_test.reshape(-1,1)"
   ]
  },
  {
   "cell_type": "code",
   "execution_count": 269,
   "metadata": {},
   "outputs": [
    {
     "name": "stderr",
     "output_type": "stream",
     "text": [
      "/opt/anaconda3/lib/python3.7/site-packages/ipykernel_launcher.py:9: DataConversionWarning: A column-vector y was passed when a 1d array was expected. Please change the shape of y to (n_samples,), for example using ravel().\n",
      "  if __name__ == '__main__':\n",
      "/opt/anaconda3/lib/python3.7/site-packages/ipykernel_launcher.py:9: DataConversionWarning: A column-vector y was passed when a 1d array was expected. Please change the shape of y to (n_samples,), for example using ravel().\n",
      "  if __name__ == '__main__':\n",
      "/opt/anaconda3/lib/python3.7/site-packages/sklearn/ensemble/_forest.py:368: UserWarning: Warm-start fitting without increasing n_estimators does not fit new trees.\n",
      "  warn(\"Warm-start fitting without increasing n_estimators does not \"\n",
      "/opt/anaconda3/lib/python3.7/site-packages/ipykernel_launcher.py:9: DataConversionWarning: A column-vector y was passed when a 1d array was expected. Please change the shape of y to (n_samples,), for example using ravel().\n",
      "  if __name__ == '__main__':\n",
      "/opt/anaconda3/lib/python3.7/site-packages/sklearn/ensemble/_forest.py:368: UserWarning: Warm-start fitting without increasing n_estimators does not fit new trees.\n",
      "  warn(\"Warm-start fitting without increasing n_estimators does not \"\n",
      "/opt/anaconda3/lib/python3.7/site-packages/ipykernel_launcher.py:9: DataConversionWarning: A column-vector y was passed when a 1d array was expected. Please change the shape of y to (n_samples,), for example using ravel().\n",
      "  if __name__ == '__main__':\n",
      "/opt/anaconda3/lib/python3.7/site-packages/sklearn/ensemble/_forest.py:368: UserWarning: Warm-start fitting without increasing n_estimators does not fit new trees.\n",
      "  warn(\"Warm-start fitting without increasing n_estimators does not \"\n",
      "/opt/anaconda3/lib/python3.7/site-packages/ipykernel_launcher.py:9: DataConversionWarning: A column-vector y was passed when a 1d array was expected. Please change the shape of y to (n_samples,), for example using ravel().\n",
      "  if __name__ == '__main__':\n",
      "/opt/anaconda3/lib/python3.7/site-packages/sklearn/ensemble/_forest.py:368: UserWarning: Warm-start fitting without increasing n_estimators does not fit new trees.\n",
      "  warn(\"Warm-start fitting without increasing n_estimators does not \"\n",
      "/opt/anaconda3/lib/python3.7/site-packages/ipykernel_launcher.py:9: DataConversionWarning: A column-vector y was passed when a 1d array was expected. Please change the shape of y to (n_samples,), for example using ravel().\n",
      "  if __name__ == '__main__':\n",
      "/opt/anaconda3/lib/python3.7/site-packages/sklearn/ensemble/_forest.py:368: UserWarning: Warm-start fitting without increasing n_estimators does not fit new trees.\n",
      "  warn(\"Warm-start fitting without increasing n_estimators does not \"\n",
      "/opt/anaconda3/lib/python3.7/site-packages/ipykernel_launcher.py:9: DataConversionWarning: A column-vector y was passed when a 1d array was expected. Please change the shape of y to (n_samples,), for example using ravel().\n",
      "  if __name__ == '__main__':\n",
      "/opt/anaconda3/lib/python3.7/site-packages/sklearn/ensemble/_forest.py:368: UserWarning: Warm-start fitting without increasing n_estimators does not fit new trees.\n",
      "  warn(\"Warm-start fitting without increasing n_estimators does not \"\n",
      "/opt/anaconda3/lib/python3.7/site-packages/sklearn/utils/validation.py:72: DataConversionWarning: A column-vector y was passed when a 1d array was expected. Please change the shape of y to (n_samples, ), for example using ravel().\n",
      "  return f(**kwargs)\n",
      "/opt/anaconda3/lib/python3.7/site-packages/sklearn/utils/validation.py:72: DataConversionWarning: A column-vector y was passed when a 1d array was expected. Please change the shape of y to (n_samples, ), for example using ravel().\n",
      "  return f(**kwargs)\n",
      "/opt/anaconda3/lib/python3.7/site-packages/sklearn/utils/validation.py:72: DataConversionWarning: A column-vector y was passed when a 1d array was expected. Please change the shape of y to (n_samples, ), for example using ravel().\n",
      "  return f(**kwargs)\n",
      "/opt/anaconda3/lib/python3.7/site-packages/sklearn/utils/validation.py:72: DataConversionWarning: A column-vector y was passed when a 1d array was expected. Please change the shape of y to (n_samples, ), for example using ravel().\n",
      "  return f(**kwargs)\n",
      "/opt/anaconda3/lib/python3.7/site-packages/sklearn/utils/validation.py:72: DataConversionWarning: A column-vector y was passed when a 1d array was expected. Please change the shape of y to (n_samples, ), for example using ravel().\n",
      "  return f(**kwargs)\n",
      "/opt/anaconda3/lib/python3.7/site-packages/sklearn/utils/validation.py:72: DataConversionWarning: A column-vector y was passed when a 1d array was expected. Please change the shape of y to (n_samples, ), for example using ravel().\n",
      "  return f(**kwargs)\n",
      "/opt/anaconda3/lib/python3.7/site-packages/sklearn/utils/validation.py:72: DataConversionWarning: A column-vector y was passed when a 1d array was expected. Please change the shape of y to (n_samples, ), for example using ravel().\n",
      "  return f(**kwargs)\n",
      "/opt/anaconda3/lib/python3.7/site-packages/ipykernel_launcher.py:9: DataConversionWarning: A column-vector y was passed when a 1d array was expected. Please change the shape of y to (n_samples,), for example using ravel().\n",
      "  if __name__ == '__main__':\n",
      "/opt/anaconda3/lib/python3.7/site-packages/ipykernel_launcher.py:9: DataConversionWarning: A column-vector y was passed when a 1d array was expected. Please change the shape of y to (n_samples,), for example using ravel().\n",
      "  if __name__ == '__main__':\n",
      "/opt/anaconda3/lib/python3.7/site-packages/ipykernel_launcher.py:9: DataConversionWarning: A column-vector y was passed when a 1d array was expected. Please change the shape of y to (n_samples,), for example using ravel().\n",
      "  if __name__ == '__main__':\n",
      "/opt/anaconda3/lib/python3.7/site-packages/ipykernel_launcher.py:9: DataConversionWarning: A column-vector y was passed when a 1d array was expected. Please change the shape of y to (n_samples,), for example using ravel().\n",
      "  if __name__ == '__main__':\n",
      "/opt/anaconda3/lib/python3.7/site-packages/ipykernel_launcher.py:9: DataConversionWarning: A column-vector y was passed when a 1d array was expected. Please change the shape of y to (n_samples,), for example using ravel().\n",
      "  if __name__ == '__main__':\n",
      "/opt/anaconda3/lib/python3.7/site-packages/ipykernel_launcher.py:9: DataConversionWarning: A column-vector y was passed when a 1d array was expected. Please change the shape of y to (n_samples,), for example using ravel().\n",
      "  if __name__ == '__main__':\n",
      "/opt/anaconda3/lib/python3.7/site-packages/ipykernel_launcher.py:9: DataConversionWarning: A column-vector y was passed when a 1d array was expected. Please change the shape of y to (n_samples,), for example using ravel().\n",
      "  if __name__ == '__main__':\n",
      "/opt/anaconda3/lib/python3.7/site-packages/sklearn/utils/validation.py:72: DataConversionWarning: A column-vector y was passed when a 1d array was expected. Please change the shape of y to (n_samples, ), for example using ravel().\n",
      "  return f(**kwargs)\n",
      "/opt/anaconda3/lib/python3.7/site-packages/sklearn/utils/validation.py:72: DataConversionWarning: A column-vector y was passed when a 1d array was expected. Please change the shape of y to (n_samples, ), for example using ravel().\n",
      "  return f(**kwargs)\n",
      "/opt/anaconda3/lib/python3.7/site-packages/sklearn/utils/validation.py:72: DataConversionWarning: A column-vector y was passed when a 1d array was expected. Please change the shape of y to (n_samples, ), for example using ravel().\n",
      "  return f(**kwargs)\n",
      "/opt/anaconda3/lib/python3.7/site-packages/sklearn/utils/validation.py:72: DataConversionWarning: A column-vector y was passed when a 1d array was expected. Please change the shape of y to (n_samples, ), for example using ravel().\n",
      "  return f(**kwargs)\n",
      "/opt/anaconda3/lib/python3.7/site-packages/sklearn/utils/validation.py:72: DataConversionWarning: A column-vector y was passed when a 1d array was expected. Please change the shape of y to (n_samples, ), for example using ravel().\n",
      "  return f(**kwargs)\n",
      "/opt/anaconda3/lib/python3.7/site-packages/sklearn/utils/validation.py:72: DataConversionWarning: A column-vector y was passed when a 1d array was expected. Please change the shape of y to (n_samples, ), for example using ravel().\n",
      "  return f(**kwargs)\n"
     ]
    },
    {
     "name": "stderr",
     "output_type": "stream",
     "text": [
      "/opt/anaconda3/lib/python3.7/site-packages/sklearn/utils/validation.py:72: DataConversionWarning: A column-vector y was passed when a 1d array was expected. Please change the shape of y to (n_samples, ), for example using ravel().\n",
      "  return f(**kwargs)\n"
     ]
    },
    {
     "name": "stdout",
     "output_type": "stream",
     "text": [
      "Training is complete!\n"
     ]
    }
   ],
   "source": [
    "# the first level in ensemble stacking model\n",
    "rf_oof_train, rf_oof_test = get_out_fold(rf,x_trainmodel,y_trainmodel, x_testmodel)\n",
    "ada_oof_train, ada_oof_test = get_out_fold(ada,x_trainmodel,y_trainmodel, x_testmodel)\n",
    "et_oof_train, et_oof_test = get_out_fold(et,x_trainmodel,y_trainmodel, x_testmodel)\n",
    "gb_oof_train, gb_oof_test = get_out_fold(gb,x_trainmodel,y_trainmodel, x_testmodel)\n",
    "#dt_oof_train, dt_oof_test = get_out_fold(dt,x_trainmodel,y_trainmodel, x_testmodel)\n",
    "#knn_oof_train, knn_oof_test = get_out_fold(knn,x_trainmodel,y_trainmodel, x_testmodel)\n",
    "#svm_oof_train, svm_oof_test = get_out_fold(svm,x_trainmodel,y_trainmodel, x_testmodel)\n",
    "print('Training is complete!')"
   ]
  },
  {
   "cell_type": "code",
   "execution_count": 270,
   "metadata": {},
   "outputs": [],
   "source": [
    "#second level model - XGBoost\n",
    "#x_train = np.concatenate((rf_oof_train,ada_oof_train,et_oof_train,gb_oof_train,dt_oof_train,knn_oof_train,svm_oof_train),axis=1)\n",
    "#x_test = np.concatenate((rf_oof_test,ada_oof_test,et_oof_test,gb_oof_test,dt_oof_test,knn_oof_test,svm_oof_test),axis=1)\n",
    "\n",
    "x_train = np.concatenate((rf_oof_train,ada_oof_train,et_oof_train,gb_oof_train),axis=1)\n",
    "x_test = np.concatenate((rf_oof_test,ada_oof_test,et_oof_test,gb_oof_test),axis=1)"
   ]
  },
  {
   "cell_type": "code",
   "execution_count": 271,
   "metadata": {},
   "outputs": [
    {
     "name": "stdout",
     "output_type": "stream",
     "text": [
      "[19:27:22] WARNING: /Users/travis/build/dmlc/xgboost/src/learner.cc:516: \n",
      "Parameters: { objectives } might not be used.\n",
      "\n",
      "  This may not be accurate due to some parameters are only used in language bindings but\n",
      "  passed down to XGBoost core.  Or some parameters are not used but slip through this\n",
      "  verification. Please open an issue if you find above cases.\n",
      "\n",
      "\n"
     ]
    },
    {
     "name": "stderr",
     "output_type": "stream",
     "text": [
      "/opt/anaconda3/lib/python3.7/site-packages/sklearn/utils/validation.py:72: DataConversionWarning: A column-vector y was passed when a 1d array was expected. Please change the shape of y to (n_samples, ), for example using ravel().\n",
      "  return f(**kwargs)\n"
     ]
    }
   ],
   "source": [
    "gbm = XGBClassifier(n_estimators = 2000,max_depth = 4,min_child_weight = 2,gamma = 0.9, subsample = 0.8,\n",
    "                   colsample_bytree = 0.8, objectives = 'binary:logistic',nthread=-1, scale_pos_weight = 1).fit(x_train,y_train)\n",
    "predictions = gbm.predict(x_test)"
   ]
  },
  {
   "cell_type": "code",
   "execution_count": 272,
   "metadata": {},
   "outputs": [],
   "source": [
    "#evaluation- precision, accuracy rate\n",
    "acc = accuracy_score(y_test, predictions)"
   ]
  },
  {
   "cell_type": "code",
   "execution_count": 275,
   "metadata": {},
   "outputs": [
    {
     "data": {
      "text/plain": [
       "0.9410710895975702"
      ]
     },
     "execution_count": 275,
     "metadata": {},
     "output_type": "execute_result"
    }
   ],
   "source": [
    "acc"
   ]
  },
  {
   "cell_type": "markdown",
   "metadata": {},
   "source": [
    "## Feature Importances"
   ]
  },
  {
   "cell_type": "code",
   "execution_count": 277,
   "metadata": {
    "scrolled": true
   },
   "outputs": [
    {
     "name": "stdout",
     "output_type": "stream",
     "text": [
      "[12:15:36] WARNING: /Users/travis/build/dmlc/xgboost/src/learner.cc:516: \n",
      "Parameters: { objectives } might not be used.\n",
      "\n",
      "  This may not be accurate due to some parameters are only used in language bindings but\n",
      "  passed down to XGBoost core.  Or some parameters are not used but slip through this\n",
      "  verification. Please open an issue if you find above cases.\n",
      "\n",
      "\n"
     ]
    },
    {
     "data": {
      "text/plain": [
       "<matplotlib.axes._subplots.AxesSubplot at 0x7fbc81c24910>"
      ]
     },
     "execution_count": 277,
     "metadata": {},
     "output_type": "execute_result"
    },
    {
     "data": {
      "image/png": "[encoded data removed]",
      "text/plain": [
       "<Figure size 432x288 with 1 Axes>"
      ]
     },
     "metadata": {
      "needs_background": "light"
     },
     "output_type": "display_data"
    }
   ],
   "source": [
    "gbm = XGBClassifier(n_estimators = 2000,max_depth = 4,min_child_weight = 2,gamma = 0.9, subsample = 0.8,\n",
    "                   colsample_bytree = 0.8, objectives = 'binary:logistic',nthread=-1, scale_pos_weight = 1).fit(x_trainmodel,y_trainmodel)\n",
    "plot_importance(gbm, )"
   ]
  },
  {
   "cell_type": "code",
   "execution_count": null,
   "metadata": {},
   "outputs": [],
   "source": [
    "for i,v in enumerate(importance):\n",
    "    print('Feature: %0d, Score: %.5f' % (i,v))\n",
    "# plot feature importance\n",
    "pyplot.bar([x for x in range(len(importance))], importance)\n",
    "pyplot.show()"
   ]
  },
  {
   "cell_type": "code",
   "execution_count": 278,
   "metadata": {},
   "outputs": [],
   "source": [
    "# perform permutation importance\n",
    "results = permutation_importance(gbm ,x_trainmodel, y_trainmodel, scoring='accuracy')\n",
    "# get importance\n",
    "importance = results.importances_mean\n",
    "# summarize feature importance\n",
    "importancedf = pd.DataFrame(importance)\n",
    "importancedf.columns=['Score']\n",
    "x_col=pd.DataFrame(X.columns)\n",
    "x_col.columns=['Labels']\n",
    "feature_importance = pd.concat([importancedf,x_col],axis=1)\n",
    "feature_importance.sort_values('Score',ascending = False, inplace = True)"
   ]
  },
  {
   "cell_type": "code",
   "execution_count": 279,
   "metadata": {},
   "outputs": [
    {
     "data": {
      "text/plain": [
       "(array([ 0,  1,  2,  3,  4,  5,  6,  7,  8,  9, 10]),\n",
       " <a list of 11 Text xticklabel objects>)"
      ]
     },
     "execution_count": 279,
     "metadata": {},
     "output_type": "execute_result"
    },
    {
     "data": {
      "image/png": "[encoded data removed]",
      "text/plain": [
       "<Figure size 432x288 with 1 Axes>"
      ]
     },
     "metadata": {
      "needs_background": "light"
     },
     "output_type": "display_data"
    }
   ],
   "source": [
    "plot1 = sns.barplot(data = feature_importance, x = 'Labels',y = 'Score',\n",
    "                    order = feature_importance['Labels'], color='lightskyblue').set_title('Most Important Features')\n",
    "plt.xticks(rotation=90)"
   ]
  }
 ],
 "metadata": {
  "kernelspec": {
   "display_name": "Python 3",
   "language": "python",
   "name": "python3"
  },
  "language_info": {
   "codemirror_mode": {
    "name": "ipython",
    "version": 3
   },
   "file_extension": ".py",
   "mimetype": "text/x-python",
   "name": "python",
   "nbconvert_exporter": "python",
   "pygments_lexer": "ipython3",
   "version": "3.7.6"
  }
 },
 "nbformat": 4,
 "nbformat_minor": 4
}
