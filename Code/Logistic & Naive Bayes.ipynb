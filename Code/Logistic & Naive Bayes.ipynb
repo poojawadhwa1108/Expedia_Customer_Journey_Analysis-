{
 "cells": [
  {
   "cell_type": "code",
   "execution_count": 2,
   "metadata": {},
   "outputs": [],
   "source": [
    "import pandas as pd\n",
    "import numpy as np\n",
    "from sklearn import model_selection\n",
    "import numpy as np\n",
    "from sklearn import linear_model\n",
    "from sklearn import metrics\n",
    "from sklearn import datasets, naive_bayes\n",
    "from sklearn.feature_selection import SelectKBest\n",
    "from sklearn.feature_selection import chi2\n",
    "import matplotlib\n",
    "import matplotlib.pyplot as plt\n",
    "import seaborn as sns\n",
    "from scipy import interp\n",
    "from itertools import cycle\n",
    "from sklearn.preprocessing import label_binarize\n",
    "from sklearn.metrics import roc_curve, auc\n",
    "from sklearn.inspection import permutation_importance\n",
    "\n",
    "import warnings\n",
    "warnings.filterwarnings('ignore')"
   ]
  },
  {
   "cell_type": "code",
   "execution_count": 3,
   "metadata": {},
   "outputs": [],
   "source": [
    "listing = pd.read_csv(\"data/listings.csv\")"
   ]
  },
  {
   "cell_type": "code",
   "execution_count": 4,
   "metadata": {},
   "outputs": [
    {
     "name": "stdout",
     "output_type": "stream",
     "text": [
      "['id' 'listing_url' 'scrape_id' 'last_scraped' 'name' 'summary' 'space'\n",
      " 'description' 'experiences_offered' 'neighborhood_overview' 'notes'\n",
      " 'transit' 'access' 'interaction' 'house_rules' 'thumbnail_url'\n",
      " 'medium_url' 'picture_url' 'xl_picture_url' 'host_id' 'host_url'\n",
      " 'host_name' 'host_since' 'host_location' 'host_about'\n",
      " 'host_response_time' 'host_response_rate' 'host_acceptance_rate'\n",
      " 'host_is_superhost' 'host_thumbnail_url' 'host_picture_url'\n",
      " 'host_neighbourhood' 'host_listings_count' 'host_total_listings_count'\n",
      " 'host_verifications' 'host_has_profile_pic' 'host_identity_verified'\n",
      " 'street' 'neighbourhood' 'neighbourhood_cleansed'\n",
      " 'neighbourhood_group_cleansed' 'city' 'state' 'zipcode' 'market'\n",
      " 'smart_location' 'country_code' 'country' 'latitude' 'longitude'\n",
      " 'is_location_exact' 'property_type' 'room_type' 'accommodates'\n",
      " 'bathrooms' 'bedrooms' 'beds' 'bed_type' 'amenities' 'square_feet'\n",
      " 'price' 'weekly_price' 'monthly_price' 'security_deposit' 'cleaning_fee'\n",
      " 'guests_included' 'extra_people' 'minimum_nights' 'maximum_nights'\n",
      " 'minimum_minimum_nights' 'maximum_minimum_nights'\n",
      " 'minimum_maximum_nights' 'maximum_maximum_nights'\n",
      " 'minimum_nights_avg_ntm' 'maximum_nights_avg_ntm' 'calendar_updated'\n",
      " 'has_availability' 'availability_30' 'availability_60' 'availability_90'\n",
      " 'availability_365' 'calendar_last_scraped' 'number_of_reviews'\n",
      " 'number_of_reviews_ltm' 'first_review' 'last_review'\n",
      " 'review_scores_rating' 'review_scores_accuracy'\n",
      " 'review_scores_cleanliness' 'review_scores_checkin'\n",
      " 'review_scores_communication' 'review_scores_location'\n",
      " 'review_scores_value' 'requires_license' 'license' 'jurisdiction_names'\n",
      " 'instant_bookable' 'is_business_travel_ready' 'cancellation_policy'\n",
      " 'require_guest_profile_picture' 'require_guest_phone_verification'\n",
      " 'calculated_host_listings_count'\n",
      " 'calculated_host_listings_count_entire_homes'\n",
      " 'calculated_host_listings_count_private_rooms'\n",
      " 'calculated_host_listings_count_shared_rooms' 'reviews_per_month']\n"
     ]
    }
   ],
   "source": [
    "print(listing.columns.values)"
   ]
  },
  {
   "cell_type": "code",
   "execution_count": 5,
   "metadata": {},
   "outputs": [
    {
     "data": {
      "text/plain": [
       "array([10.,  9., nan,  7.,  8.,  6.,  2.,  5.,  4.,  3.])"
      ]
     },
     "execution_count": 5,
     "metadata": {},
     "output_type": "execute_result"
    }
   ],
   "source": [
    "listing.review_scores_cleanliness.unique()"
   ]
  },
  {
   "cell_type": "code",
   "execution_count": 6,
   "metadata": {},
   "outputs": [],
   "source": [
    "df = pd.read_csv(\"data/listing_data_clean_final_v2_extra.csv\")"
   ]
  },
  {
   "cell_type": "code",
   "execution_count": 7,
   "metadata": {},
   "outputs": [
    {
     "data": {
      "text/plain": [
       "Index(['host_response_rate', 'host_acceptance_rate', 'host_is_superhost',\n",
       "       'host_total_listings_count', 'host_has_profile_pic',\n",
       "       'host_identity_verified', 'latitude', 'longitude', 'is_location_exact',\n",
       "       'property_type', 'room_type', 'accommodates', 'bathrooms', 'bedrooms',\n",
       "       'beds', 'bed_type', 'price', 'security_deposit', 'cleaning_fee',\n",
       "       'guests_included', 'extra_people', 'minimum_nights', 'maximum_nights',\n",
       "       'number_of_reviews', 'number_of_reviews_ltm', 'instant_bookable',\n",
       "       'cancellation_policy', 'require_guest_profile_picture',\n",
       "       'require_guest_phone_verification',\n",
       "       'calculated_host_listings_count_entire_homes',\n",
       "       'calculated_host_listings_count_private_rooms',\n",
       "       'calculated_host_listings_count_shared_rooms', 'reviews_per_month',\n",
       "       'host_duration_days', 'listing_duration_days', 'region',\n",
       "       'occupancy_rate', 'crime_rate', 'hangers', 'washer', 'tv', 'detector',\n",
       "       'kitchen', 'heating', 'essentials', 'iron', 'wifi', 'dryer',\n",
       "       'min_dist_subway', 'min_dist_park', 'min_dist_attraction', 'recency',\n",
       "       'rating_class', 'property_room_type'],\n",
       "      dtype='object')"
      ]
     },
     "execution_count": 7,
     "metadata": {},
     "output_type": "execute_result"
    }
   ],
   "source": [
    "df.columns"
   ]
  },
  {
   "cell_type": "markdown",
   "metadata": {},
   "source": [
    "### Data Cleaning"
   ]
  },
  {
   "cell_type": "code",
   "execution_count": 8,
   "metadata": {},
   "outputs": [],
   "source": [
    "df=df.drop(['host_total_listings_count','number_of_reviews','reviews_per_month','host_is_superhost'],axis=1)"
   ]
  },
  {
   "cell_type": "code",
   "execution_count": 10,
   "metadata": {},
   "outputs": [],
   "source": [
    "bed_type=pd.get_dummies(df['bed_type'],prefix='bed_type',drop_first=True)\n",
    "df=pd.concat([df,bed_type],axis=1)\n",
    "cancellation_policy=pd.get_dummies(df['cancellation_policy'],prefix='cancellation_policy',drop_first=True)\n",
    "df=pd.concat([df,cancellation_policy],axis=1)\n",
    "region=pd.get_dummies(df['region'],prefix='region',drop_first=True)\n",
    "df=pd.concat([df,region],axis=1)\n",
    "property_room_type=pd.get_dummies(df['property_room_type'],prefix='property_room_type',drop_first=True)\n",
    "df=pd.concat([df,property_room_type],axis=1)\n",
    "\n",
    "df=df.drop(['property_type','room_type','bed_type','cancellation_policy','region','property_room_type','latitude',\n",
    "            'longitude','property_room_type_Others_Entire home/apt', 'property_room_type_Others_Hotel room',\n",
    "            'property_room_type_Others_Private room','property_room_type_Others_Shared room'],axis=1)"
   ]
  },
  {
   "cell_type": "markdown",
   "metadata": {},
   "source": [
    "### Parameter Selection"
   ]
  },
  {
   "cell_type": "code",
   "execution_count": 11,
   "metadata": {},
   "outputs": [],
   "source": [
    "x = df[['host_response_rate', 'host_acceptance_rate', 'host_has_profile_pic',\n",
    "       'host_identity_verified', 'is_location_exact', 'accommodates',\n",
    "       'bathrooms', 'bedrooms', 'beds', 'price', 'security_deposit',\n",
    "       'cleaning_fee', 'guests_included', 'extra_people', 'minimum_nights',\n",
    "       'maximum_nights', 'number_of_reviews_ltm', 'instant_bookable',\n",
    "       'require_guest_profile_picture', 'require_guest_phone_verification',\n",
    "       'calculated_host_listings_count_entire_homes',\n",
    "       'calculated_host_listings_count_private_rooms',\n",
    "       'calculated_host_listings_count_shared_rooms', 'host_duration_days',\n",
    "       'listing_duration_days', 'occupancy_rate', 'crime_rate', 'hangers',\n",
    "       'washer', 'tv', 'detector', 'kitchen', 'heating', 'essentials', 'iron',\n",
    "       'wifi', 'dryer', 'min_dist_subway', 'min_dist_park',\n",
    "       'min_dist_attraction', 'recency', 'bed_type_Couch',\n",
    "       'bed_type_Futon', 'bed_type_Pull-out Sofa', 'bed_type_Real Bed',\n",
    "       'cancellation_policy_moderate', 'cancellation_policy_strict',\n",
    "       'cancellation_policy_strict_14_with_grace_period',\n",
    "       'cancellation_policy_super_strict_30',\n",
    "       'cancellation_policy_super_strict_60', 'region_East', 'region_North',\n",
    "       'region_South', 'region_West',\n",
    "       'property_room_type_Apartment_Hotel room',\n",
    "       'property_room_type_Apartment_Private room',\n",
    "       'property_room_type_Apartment_Shared room',\n",
    "       'property_room_type_Bungalow_Entire home/apt',\n",
    "       'property_room_type_Bungalow_Private room',\n",
    "       'property_room_type_Bungalow_Shared room',\n",
    "       'property_room_type_Guesthouse_Entire home/apt',\n",
    "       'property_room_type_Guesthouse_Hotel room',\n",
    "       'property_room_type_Guesthouse_Private room',\n",
    "       'property_room_type_Guesthouse_Shared room',\n",
    "       'property_room_type_Hotel_Entire home/apt',\n",
    "       'property_room_type_Hotel_Hotel room',\n",
    "       'property_room_type_Hotel_Private room',\n",
    "       'property_room_type_Hotel_Shared room']]\n",
    "y = df['rating_class']"
   ]
  },
  {
   "cell_type": "code",
   "execution_count": 12,
   "metadata": {},
   "outputs": [
    {
     "data": {
      "text/plain": [
       "2    50118\n",
       "1     5434\n",
       "0     2084\n",
       "Name: rating_class, dtype: int64"
      ]
     },
     "execution_count": 12,
     "metadata": {},
     "output_type": "execute_result"
    }
   ],
   "source": [
    "df.rating_class.value_counts()"
   ]
  },
  {
   "cell_type": "code",
   "execution_count": 13,
   "metadata": {},
   "outputs": [],
   "source": [
    "numerics = ['int16', 'int32', 'int64', 'float16', 'float32', 'float64']\n",
    "numerical = x.select_dtypes(include=numerics)\n",
    "numerical_cols = numerical.columns"
   ]
  },
  {
   "cell_type": "code",
   "execution_count": 14,
   "metadata": {},
   "outputs": [
    {
     "data": {
      "text/html": [
       "<div>\n",
       "<style scoped>\n",
       "    .dataframe tbody tr th:only-of-type {\n",
       "        vertical-align: middle;\n",
       "    }\n",
       "\n",
       "    .dataframe tbody tr th {\n",
       "        vertical-align: top;\n",
       "    }\n",
       "\n",
       "    .dataframe thead th {\n",
       "        text-align: right;\n",
       "    }\n",
       "</style>\n",
       "<table border=\"1\" class=\"dataframe\">\n",
       "  <thead>\n",
       "    <tr style=\"text-align: right;\">\n",
       "      <th></th>\n",
       "      <th>host_response_rate</th>\n",
       "      <th>host_acceptance_rate</th>\n",
       "      <th>host_has_profile_pic</th>\n",
       "      <th>host_identity_verified</th>\n",
       "      <th>is_location_exact</th>\n",
       "      <th>accommodates</th>\n",
       "      <th>bathrooms</th>\n",
       "      <th>bedrooms</th>\n",
       "      <th>beds</th>\n",
       "      <th>price</th>\n",
       "      <th>...</th>\n",
       "      <th>kitchen</th>\n",
       "      <th>heating</th>\n",
       "      <th>essentials</th>\n",
       "      <th>iron</th>\n",
       "      <th>wifi</th>\n",
       "      <th>dryer</th>\n",
       "      <th>min_dist_subway</th>\n",
       "      <th>min_dist_park</th>\n",
       "      <th>min_dist_attraction</th>\n",
       "      <th>recency</th>\n",
       "    </tr>\n",
       "  </thead>\n",
       "  <tbody>\n",
       "    <tr>\n",
       "      <th>count</th>\n",
       "      <td>57636.000000</td>\n",
       "      <td>57636.000000</td>\n",
       "      <td>57636.000000</td>\n",
       "      <td>57636.000000</td>\n",
       "      <td>57636.00000</td>\n",
       "      <td>57636.000000</td>\n",
       "      <td>57636.000000</td>\n",
       "      <td>57636.000000</td>\n",
       "      <td>57636.000000</td>\n",
       "      <td>57636.000000</td>\n",
       "      <td>...</td>\n",
       "      <td>57636.000000</td>\n",
       "      <td>57636.000000</td>\n",
       "      <td>57636.000000</td>\n",
       "      <td>57636.000000</td>\n",
       "      <td>57636.000000</td>\n",
       "      <td>57636.000000</td>\n",
       "      <td>57636.000000</td>\n",
       "      <td>57636.000000</td>\n",
       "      <td>57636.000000</td>\n",
       "      <td>57636.000000</td>\n",
       "    </tr>\n",
       "    <tr>\n",
       "      <th>mean</th>\n",
       "      <td>0.571354</td>\n",
       "      <td>0.677360</td>\n",
       "      <td>0.997415</td>\n",
       "      <td>0.389479</td>\n",
       "      <td>0.69009</td>\n",
       "      <td>3.226907</td>\n",
       "      <td>1.295640</td>\n",
       "      <td>1.397338</td>\n",
       "      <td>1.748872</td>\n",
       "      <td>105.034354</td>\n",
       "      <td>...</td>\n",
       "      <td>0.917708</td>\n",
       "      <td>0.960424</td>\n",
       "      <td>0.955028</td>\n",
       "      <td>0.805556</td>\n",
       "      <td>0.973211</td>\n",
       "      <td>0.838296</td>\n",
       "      <td>1049.077268</td>\n",
       "      <td>11378.863962</td>\n",
       "      <td>11359.936546</td>\n",
       "      <td>347.432785</td>\n",
       "    </tr>\n",
       "    <tr>\n",
       "      <th>std</th>\n",
       "      <td>0.470711</td>\n",
       "      <td>0.394608</td>\n",
       "      <td>0.050779</td>\n",
       "      <td>0.487636</td>\n",
       "      <td>0.46246</td>\n",
       "      <td>1.970470</td>\n",
       "      <td>0.593854</td>\n",
       "      <td>0.882589</td>\n",
       "      <td>1.256607</td>\n",
       "      <td>90.324988</td>\n",
       "      <td>...</td>\n",
       "      <td>0.274812</td>\n",
       "      <td>0.194962</td>\n",
       "      <td>0.207244</td>\n",
       "      <td>0.395776</td>\n",
       "      <td>0.161467</td>\n",
       "      <td>0.368183</td>\n",
       "      <td>1503.902458</td>\n",
       "      <td>5244.719393</td>\n",
       "      <td>5439.748352</td>\n",
       "      <td>420.469006</td>\n",
       "    </tr>\n",
       "    <tr>\n",
       "      <th>min</th>\n",
       "      <td>0.000000</td>\n",
       "      <td>0.000000</td>\n",
       "      <td>0.000000</td>\n",
       "      <td>0.000000</td>\n",
       "      <td>0.00000</td>\n",
       "      <td>1.000000</td>\n",
       "      <td>0.000000</td>\n",
       "      <td>0.000000</td>\n",
       "      <td>0.000000</td>\n",
       "      <td>0.000000</td>\n",
       "      <td>...</td>\n",
       "      <td>0.000000</td>\n",
       "      <td>0.000000</td>\n",
       "      <td>0.000000</td>\n",
       "      <td>0.000000</td>\n",
       "      <td>0.000000</td>\n",
       "      <td>0.000000</td>\n",
       "      <td>1.774875</td>\n",
       "      <td>167.735457</td>\n",
       "      <td>46.259545</td>\n",
       "      <td>0.000000</td>\n",
       "    </tr>\n",
       "    <tr>\n",
       "      <th>25%</th>\n",
       "      <td>0.000000</td>\n",
       "      <td>0.400000</td>\n",
       "      <td>1.000000</td>\n",
       "      <td>0.000000</td>\n",
       "      <td>0.00000</td>\n",
       "      <td>2.000000</td>\n",
       "      <td>1.000000</td>\n",
       "      <td>1.000000</td>\n",
       "      <td>1.000000</td>\n",
       "      <td>45.000000</td>\n",
       "      <td>...</td>\n",
       "      <td>1.000000</td>\n",
       "      <td>1.000000</td>\n",
       "      <td>1.000000</td>\n",
       "      <td>1.000000</td>\n",
       "      <td>1.000000</td>\n",
       "      <td>1.000000</td>\n",
       "      <td>330.472496</td>\n",
       "      <td>7796.732004</td>\n",
       "      <td>7473.369216</td>\n",
       "      <td>75.000000</td>\n",
       "    </tr>\n",
       "    <tr>\n",
       "      <th>50%</th>\n",
       "      <td>0.900000</td>\n",
       "      <td>0.890000</td>\n",
       "      <td>1.000000</td>\n",
       "      <td>0.000000</td>\n",
       "      <td>1.00000</td>\n",
       "      <td>2.000000</td>\n",
       "      <td>1.000000</td>\n",
       "      <td>1.000000</td>\n",
       "      <td>1.000000</td>\n",
       "      <td>80.000000</td>\n",
       "      <td>...</td>\n",
       "      <td>1.000000</td>\n",
       "      <td>1.000000</td>\n",
       "      <td>1.000000</td>\n",
       "      <td>1.000000</td>\n",
       "      <td>1.000000</td>\n",
       "      <td>1.000000</td>\n",
       "      <td>565.437999</td>\n",
       "      <td>10899.282654</td>\n",
       "      <td>10849.629813</td>\n",
       "      <td>162.000000</td>\n",
       "    </tr>\n",
       "    <tr>\n",
       "      <th>75%</th>\n",
       "      <td>1.000000</td>\n",
       "      <td>1.000000</td>\n",
       "      <td>1.000000</td>\n",
       "      <td>1.000000</td>\n",
       "      <td>1.00000</td>\n",
       "      <td>4.000000</td>\n",
       "      <td>1.500000</td>\n",
       "      <td>2.000000</td>\n",
       "      <td>2.000000</td>\n",
       "      <td>130.000000</td>\n",
       "      <td>...</td>\n",
       "      <td>1.000000</td>\n",
       "      <td>1.000000</td>\n",
       "      <td>1.000000</td>\n",
       "      <td>1.000000</td>\n",
       "      <td>1.000000</td>\n",
       "      <td>1.000000</td>\n",
       "      <td>1045.497681</td>\n",
       "      <td>14254.515266</td>\n",
       "      <td>14480.794510</td>\n",
       "      <td>456.000000</td>\n",
       "    </tr>\n",
       "    <tr>\n",
       "      <th>max</th>\n",
       "      <td>1.000000</td>\n",
       "      <td>1.000000</td>\n",
       "      <td>1.000000</td>\n",
       "      <td>1.000000</td>\n",
       "      <td>1.00000</td>\n",
       "      <td>16.000000</td>\n",
       "      <td>17.000000</td>\n",
       "      <td>22.000000</td>\n",
       "      <td>28.000000</td>\n",
       "      <td>800.000000</td>\n",
       "      <td>...</td>\n",
       "      <td>1.000000</td>\n",
       "      <td>1.000000</td>\n",
       "      <td>1.000000</td>\n",
       "      <td>1.000000</td>\n",
       "      <td>1.000000</td>\n",
       "      <td>1.000000</td>\n",
       "      <td>21463.237214</td>\n",
       "      <td>37267.358645</td>\n",
       "      <td>37124.994930</td>\n",
       "      <td>18398.000000</td>\n",
       "    </tr>\n",
       "  </tbody>\n",
       "</table>\n",
       "<p>8 rows × 41 columns</p>\n",
       "</div>"
      ],
      "text/plain": [
       "       host_response_rate  host_acceptance_rate  host_has_profile_pic  \\\n",
       "count        57636.000000          57636.000000          57636.000000   \n",
       "mean             0.571354              0.677360              0.997415   \n",
       "std              0.470711              0.394608              0.050779   \n",
       "min              0.000000              0.000000              0.000000   \n",
       "25%              0.000000              0.400000              1.000000   \n",
       "50%              0.900000              0.890000              1.000000   \n",
       "75%              1.000000              1.000000              1.000000   \n",
       "max              1.000000              1.000000              1.000000   \n",
       "\n",
       "       host_identity_verified  is_location_exact  accommodates     bathrooms  \\\n",
       "count            57636.000000        57636.00000  57636.000000  57636.000000   \n",
       "mean                 0.389479            0.69009      3.226907      1.295640   \n",
       "std                  0.487636            0.46246      1.970470      0.593854   \n",
       "min                  0.000000            0.00000      1.000000      0.000000   \n",
       "25%                  0.000000            0.00000      2.000000      1.000000   \n",
       "50%                  0.000000            1.00000      2.000000      1.000000   \n",
       "75%                  1.000000            1.00000      4.000000      1.500000   \n",
       "max                  1.000000            1.00000     16.000000     17.000000   \n",
       "\n",
       "           bedrooms          beds         price  ...       kitchen  \\\n",
       "count  57636.000000  57636.000000  57636.000000  ...  57636.000000   \n",
       "mean       1.397338      1.748872    105.034354  ...      0.917708   \n",
       "std        0.882589      1.256607     90.324988  ...      0.274812   \n",
       "min        0.000000      0.000000      0.000000  ...      0.000000   \n",
       "25%        1.000000      1.000000     45.000000  ...      1.000000   \n",
       "50%        1.000000      1.000000     80.000000  ...      1.000000   \n",
       "75%        2.000000      2.000000    130.000000  ...      1.000000   \n",
       "max       22.000000     28.000000    800.000000  ...      1.000000   \n",
       "\n",
       "            heating    essentials          iron          wifi         dryer  \\\n",
       "count  57636.000000  57636.000000  57636.000000  57636.000000  57636.000000   \n",
       "mean       0.960424      0.955028      0.805556      0.973211      0.838296   \n",
       "std        0.194962      0.207244      0.395776      0.161467      0.368183   \n",
       "min        0.000000      0.000000      0.000000      0.000000      0.000000   \n",
       "25%        1.000000      1.000000      1.000000      1.000000      1.000000   \n",
       "50%        1.000000      1.000000      1.000000      1.000000      1.000000   \n",
       "75%        1.000000      1.000000      1.000000      1.000000      1.000000   \n",
       "max        1.000000      1.000000      1.000000      1.000000      1.000000   \n",
       "\n",
       "       min_dist_subway  min_dist_park  min_dist_attraction       recency  \n",
       "count     57636.000000   57636.000000         57636.000000  57636.000000  \n",
       "mean       1049.077268   11378.863962         11359.936546    347.432785  \n",
       "std        1503.902458    5244.719393          5439.748352    420.469006  \n",
       "min           1.774875     167.735457            46.259545      0.000000  \n",
       "25%         330.472496    7796.732004          7473.369216     75.000000  \n",
       "50%         565.437999   10899.282654         10849.629813    162.000000  \n",
       "75%        1045.497681   14254.515266         14480.794510    456.000000  \n",
       "max       21463.237214   37267.358645         37124.994930  18398.000000  \n",
       "\n",
       "[8 rows x 41 columns]"
      ]
     },
     "execution_count": 14,
     "metadata": {},
     "output_type": "execute_result"
    }
   ],
   "source": [
    "df[numerical_cols].describe()"
   ]
  },
  {
   "cell_type": "code",
   "execution_count": 15,
   "metadata": {},
   "outputs": [
    {
     "name": "stdout",
     "output_type": "stream",
     "text": [
      "                                          Specs         Score\n",
      "15                               maximum_nights  2.220320e+08\n",
      "23                           host_duration_days  2.968768e+05\n",
      "24                        listing_duration_days  1.950719e+05\n",
      "40                                      recency  1.928220e+05\n",
      "39                          min_dist_attraction  1.351445e+05\n",
      "37                              min_dist_subway  1.187257e+05\n",
      "20  calculated_host_listings_count_entire_homes  1.164064e+05\n",
      "38                                min_dist_park  9.562325e+04\n",
      "10                             security_deposit  3.399514e+04\n",
      "16                        number_of_reviews_ltm  1.135719e+04\n"
     ]
    }
   ],
   "source": [
    "#apply SelectKBest class to extract top 10 best features\n",
    "bestfeatures = SelectKBest(score_func=chi2, k = 10)\n",
    "fit = bestfeatures.fit(x,y)\n",
    "dfscores = pd.DataFrame(fit.scores_)\n",
    "dfcolumns = pd.DataFrame(x.columns)\n",
    "#concat two dataframes for better visualization \n",
    "featureScores = pd.concat([dfcolumns,dfscores],axis=1)\n",
    "featureScores.columns = ['Specs','Score']  #naming the dataframe columns\n",
    "print(featureScores.nlargest(10,'Score'))  #print 5 best features"
   ]
  },
  {
   "cell_type": "markdown",
   "metadata": {},
   "source": [
    "### Logistic Model"
   ]
  },
  {
   "cell_type": "markdown",
   "metadata": {},
   "source": [
    "#### OVR Model"
   ]
  },
  {
   "cell_type": "code",
   "execution_count": 16,
   "metadata": {},
   "outputs": [],
   "source": [
    "x = df[[\"maximum_nights\", \"host_duration_days\", \"listing_duration_days\", \"recency\", \"min_dist_attraction\", \"min_dist_subway\", \n",
    "        \"calculated_host_listings_count_entire_homes\", \"min_dist_park\", \"security_deposit\", \"number_of_reviews_ltm\"]]\n",
    "\n",
    "y = df['rating_class']"
   ]
  },
  {
   "cell_type": "code",
   "execution_count": 17,
   "metadata": {},
   "outputs": [
    {
     "data": {
      "text/plain": [
       "2    50118\n",
       "1     5434\n",
       "0     2084\n",
       "Name: rating_class, dtype: int64"
      ]
     },
     "execution_count": 17,
     "metadata": {},
     "output_type": "execute_result"
    }
   ],
   "source": [
    "y.value_counts()"
   ]
  },
  {
   "cell_type": "code",
   "execution_count": 18,
   "metadata": {},
   "outputs": [],
   "source": [
    "x_train, x_test, y_train, y_test = model_selection.train_test_split(x, y, test_size = 0.2, random_state = 610)"
   ]
  },
  {
   "cell_type": "code",
   "execution_count": 19,
   "metadata": {},
   "outputs": [
    {
     "name": "stdout",
     "output_type": "stream",
     "text": [
      "0.8698924339655573\n",
      "{'C': 0.01}\n"
     ]
    }
   ],
   "source": [
    "grid_values = {'C':[0.001,0.01,1,5,10,25,100]}\n",
    "grid_clf_acc = model_selection.GridSearchCV(linear_model.LogisticRegression(solver='lbfgs', multi_class = 'ovr'), grid_values,cv= model_selection.StratifiedKFold(n_splits = 10, shuffle = True, random_state = 2019))\n",
    "grid_clf_acc.fit(x_train, y_train)\n",
    "print(grid_clf_acc.best_score_)\n",
    "print(grid_clf_acc.best_params_)"
   ]
  },
  {
   "cell_type": "code",
   "execution_count": 29,
   "metadata": {},
   "outputs": [
    {
     "name": "stdout",
     "output_type": "stream",
     "text": [
      "\n",
      "The evaluation report of OVR is:\n",
      "Confusion Matrix:\n",
      "[[    0     0   433]\n",
      " [    0     0  1086]\n",
      " [    0     3 10006]]\n",
      "Accuracy: 0.8679736294240111\n",
      "\n",
      "The classification report of OVR:\n",
      "               precision    recall  f1-score   support\n",
      "\n",
      "           0       0.00      0.00      0.00       433\n",
      "           1       0.00      0.00      0.00      1086\n",
      "           2       0.87      1.00      0.93     10009\n",
      "\n",
      "    accuracy                           0.87     11528\n",
      "   macro avg       0.29      0.33      0.31     11528\n",
      "weighted avg       0.75      0.87      0.81     11528\n",
      "\n"
     ]
    }
   ],
   "source": [
    "#Fit a multi-class logistic regression model with one-v.s.-rest\n",
    "ovr_estimator = linear_model.LogisticRegression(\n",
    "    solver = 'lbfgs',\n",
    "    multi_class = 'ovr', C = 0.01)\n",
    "ovr_estimator.fit(x_train, y_train)\n",
    "\n",
    "ovr_predict = ovr_estimator.predict(x_test)\n",
    "\n",
    "ovr_report = \"\"\"\n",
    "The evaluation report of OVR is:\n",
    "Confusion Matrix:\n",
    "{}\n",
    "Accuracy: {}\n",
    "\"\"\".format(metrics.confusion_matrix(y_test, ovr_predict),\n",
    "           metrics.accuracy_score(y_test, ovr_predict))\n",
    "print(ovr_report)\n",
    "print('The classification report of OVR:\\n {}'\n",
    "      .format(metrics.classification_report(y_test, ovr_predict)))"
   ]
  },
  {
   "cell_type": "code",
   "execution_count": 30,
   "metadata": {},
   "outputs": [],
   "source": [
    "# Binarize the output\n",
    "y_test = label_binarize(y_test, classes=[0,1,2])\n",
    "n_classes = y_test.shape[1]\n",
    "\n",
    "y_score = ovr_estimator.predict_proba(x_test)\n",
    "\n",
    "# Compute ROC curve and ROC area for each class\n",
    "fpr = dict()\n",
    "tpr = dict()\n",
    "roc_auc = dict()\n",
    "for i in range(n_classes):\n",
    "    fpr[i], tpr[i], _ = roc_curve(y_test[:, i], y_score[:, i])\n",
    "    roc_auc[i] = auc(fpr[i], tpr[i])\n",
    "    \n",
    "# Compute micro-average ROC curve and ROC area\n",
    "fpr[\"micro\"], tpr[\"micro\"], _ = roc_curve(y_test.ravel(), y_score.ravel())\n",
    "roc_auc[\"micro\"] = auc(fpr[\"micro\"], tpr[\"micro\"])"
   ]
  },
  {
   "cell_type": "code",
   "execution_count": 31,
   "metadata": {},
   "outputs": [
    {
     "data": {
      "image/png": "[encoded data removed]",
      "text/plain": [
       "<Figure size 432x288 with 1 Axes>"
      ]
     },
     "metadata": {
      "needs_background": "light"
     },
     "output_type": "display_data"
    }
   ],
   "source": [
    "lw = 2\n",
    "\n",
    "# First aggregate all false positive rates\n",
    "all_fpr = np.unique(np.concatenate([fpr[i] for i in range(n_classes)]))\n",
    "\n",
    "# Then interpolate all ROC curves at this points\n",
    "mean_tpr = np.zeros_like(all_fpr)\n",
    "for i in range(n_classes):\n",
    "    mean_tpr += interp(all_fpr, fpr[i], tpr[i])\n",
    "\n",
    "# Finally average it and compute AUC\n",
    "mean_tpr /= n_classes\n",
    "\n",
    "fpr[\"macro\"] = all_fpr\n",
    "tpr[\"macro\"] = mean_tpr\n",
    "roc_auc[\"macro\"] = auc(fpr[\"macro\"], tpr[\"macro\"])\n",
    "\n",
    "# Plot all ROC curves\n",
    "plt.figure()\n",
    "plt.plot(fpr[\"micro\"], tpr[\"micro\"],\n",
    "         label='micro-average ROC curve (area = {0:0.4f})'\n",
    "               ''.format(roc_auc[\"micro\"]),\n",
    "         color='deeppink', linestyle=':', linewidth=4)\n",
    "\n",
    "plt.plot(fpr[\"macro\"], tpr[\"macro\"],\n",
    "         label='macro-average ROC curve (area = {0:0.4f})'\n",
    "               ''.format(roc_auc[\"macro\"]),\n",
    "         color='navy', linestyle=':', linewidth=4)\n",
    "\n",
    "colors = cycle(['aqua', 'darkorange', 'cornflowerblue'])\n",
    "for i, color in zip(range(n_classes), colors):\n",
    "    plt.plot(fpr[i], tpr[i], color=color, lw=lw,\n",
    "             label='ROC curve of class {0} (area = {1:0.4f})'\n",
    "             ''.format(i, roc_auc[i]))\n",
    "\n",
    "plt.plot([0, 1], [0, 1], 'k--', lw=lw)\n",
    "plt.xlim([0.0, 1.0])\n",
    "plt.ylim([0.0, 1.05])\n",
    "plt.xlabel('False Positive Rate')\n",
    "plt.ylabel('True Positive Rate')\n",
    "plt.title('Some extension of Receiver operating characteristic to multi-class')\n",
    "plt.legend(loc=\"lower right\")\n",
    "plt.show()"
   ]
  },
  {
   "cell_type": "code",
   "execution_count": 32,
   "metadata": {},
   "outputs": [
    {
     "name": "stdout",
     "output_type": "stream",
     "text": [
      "One-vs-One ROC AUC scores:\n",
      "0.677380 (macro),\n",
      "0.652012 (weighted by prevalence)\n",
      "One-vs-Rest ROC AUC scores:\n",
      "0.677380 (macro),\n",
      "0.652012 (weighted by prevalence)\n"
     ]
    }
   ],
   "source": [
    "from sklearn.metrics import roc_auc_score\n",
    "\n",
    "y_prob = ovr_estimator.predict_proba(x_test)\n",
    "\n",
    "macro_roc_auc_ovo = roc_auc_score(y_test, y_prob, multi_class=\"ovo\",\n",
    "                                  average=\"macro\")\n",
    "weighted_roc_auc_ovo = roc_auc_score(y_test, y_prob, multi_class=\"ovo\",\n",
    "                                     average=\"weighted\")\n",
    "macro_roc_auc_ovr = roc_auc_score(y_test, y_prob, multi_class=\"ovr\",\n",
    "                                  average=\"macro\")\n",
    "weighted_roc_auc_ovr = roc_auc_score(y_test, y_prob, multi_class=\"ovr\",\n",
    "                                     average=\"weighted\")\n",
    "print(\"One-vs-One ROC AUC scores:\\n{:.6f} (macro),\\n{:.6f} \"\n",
    "      \"(weighted by prevalence)\"\n",
    "      .format(macro_roc_auc_ovo, weighted_roc_auc_ovo))\n",
    "print(\"One-vs-Rest ROC AUC scores:\\n{:.6f} (macro),\\n{:.6f} \"\n",
    "      \"(weighted by prevalence)\"\n",
    "      .format(macro_roc_auc_ovr, weighted_roc_auc_ovr))"
   ]
  },
  {
   "cell_type": "code",
   "execution_count": 33,
   "metadata": {},
   "outputs": [],
   "source": [
    "# importance = ovr_estimator.coef_[0]\n",
    "# # summarize feature importance\n",
    "# for i,v in enumerate(importance):\n",
    "#     print('Feature: %0d, Score: %.5f' % (i,v))\n",
    "# # plot feature importance\n",
    "# plt.bar([x for x in range(len(importance))], importance)\n",
    "# plt.show()"
   ]
  },
  {
   "cell_type": "code",
   "execution_count": 34,
   "metadata": {},
   "outputs": [],
   "source": [
    "# perform permutation importance\n",
    "results = permutation_importance(ovr_estimator,x_train, y_train, scoring='accuracy')\n",
    "# get importance\n",
    "importance = results.importances_mean\n",
    "# summarize feature importance\n",
    "importancedf = pd.DataFrame(importance)\n",
    "importancedf.columns=['Score']\n",
    "x_col=pd.DataFrame(x.columns)\n",
    "x_col.columns=['Labels']\n",
    "feature_importance = pd.concat([importancedf,x_col],axis=1)\n",
    "feature_importance.sort_values('Score',ascending = False, inplace = True)"
   ]
  },
  {
   "cell_type": "code",
   "execution_count": 35,
   "metadata": {},
   "outputs": [
    {
     "data": {
      "text/plain": [
       "(array([0, 1, 2, 3, 4, 5, 6, 7, 8, 9]),\n",
       " <a list of 10 Text major ticklabel objects>)"
      ]
     },
     "execution_count": 35,
     "metadata": {},
     "output_type": "execute_result"
    },
    {
     "data": {
      "image/png": "[encoded data removed]",
      "text/plain": [
       "<Figure size 432x288 with 1 Axes>"
      ]
     },
     "metadata": {
      "needs_background": "light"
     },
     "output_type": "display_data"
    }
   ],
   "source": [
    "plot1 = sns.barplot(data = feature_importance, x = 'Labels',y = 'Score',\n",
    "                    order = feature_importance['Labels'], color='lightskyblue').set_title('Most Important Features')\n",
    "plt.xticks(rotation=90)"
   ]
  },
  {
   "cell_type": "markdown",
   "metadata": {},
   "source": [
    "#### Softmax"
   ]
  },
  {
   "cell_type": "code",
   "execution_count": 36,
   "metadata": {},
   "outputs": [],
   "source": [
    "x = df[[\"maximum_nights\", \"host_duration_days\", \"listing_duration_days\", \"recency\", \"min_dist_attraction\", \"min_dist_subway\", \n",
    "        \"calculated_host_listings_count_entire_homes\", \"min_dist_park\", \"security_deposit\", \"number_of_reviews_ltm\"]]\n",
    "\n",
    "y = df['rating_class']\n",
    "\n",
    "x_train, x_test, y_train, y_test = model_selection.train_test_split(x, y, test_size = 0.2, random_state = 610)"
   ]
  },
  {
   "cell_type": "code",
   "execution_count": 37,
   "metadata": {},
   "outputs": [
    {
     "name": "stdout",
     "output_type": "stream",
     "text": [
      "0.8698707419915876\n",
      "{'C': 0.001}\n"
     ]
    }
   ],
   "source": [
    "grid_values = {'C':[0.001,0.01,1,5,10,25,100]}\n",
    "grid_clf_acc = model_selection.GridSearchCV(linear_model.LogisticRegression(solver='lbfgs', multi_class = 'multinomial'), grid_values,cv= model_selection.StratifiedKFold(n_splits = 10, shuffle = True, random_state = 2019))\n",
    "grid_clf_acc.fit(x_train, y_train)\n",
    "print(grid_clf_acc.best_score_)\n",
    "print(grid_clf_acc.best_params_)"
   ]
  },
  {
   "cell_type": "code",
   "execution_count": 38,
   "metadata": {},
   "outputs": [
    {
     "name": "stdout",
     "output_type": "stream",
     "text": [
      "\n",
      "The evaluation report of Softmax is:\n",
      "Confusion Matrix:\n",
      "[[    0     0   433]\n",
      " [    0     0  1086]\n",
      " [    1     1 10007]]\n",
      "Accuracy: 0.868060374739764\n",
      "\n",
      "The classification report of Softmax:\n",
      "               precision    recall  f1-score   support\n",
      "\n",
      "           0       0.00      0.00      0.00       433\n",
      "           1       0.00      0.00      0.00      1086\n",
      "           2       0.87      1.00      0.93     10009\n",
      "\n",
      "    accuracy                           0.87     11528\n",
      "   macro avg       0.29      0.33      0.31     11528\n",
      "weighted avg       0.75      0.87      0.81     11528\n",
      "\n"
     ]
    }
   ],
   "source": [
    "sm_estimator = linear_model.LogisticRegression(\n",
    "    solver = 'lbfgs',\n",
    "    multi_class = 'multinomial',\n",
    "    max_iter = 1000, C = 0.001)\n",
    "sm_estimator.fit(x_train, y_train)\n",
    "\n",
    "sm_predict = sm_estimator.predict(x_test)\n",
    "\n",
    "sm_report = \"\"\"\n",
    "The evaluation report of Softmax is:\n",
    "Confusion Matrix:\n",
    "{}\n",
    "Accuracy: {}\n",
    "\"\"\".format(metrics.confusion_matrix(y_test, sm_predict),\n",
    "           metrics.accuracy_score(y_test, sm_predict))\n",
    "print(sm_report)\n",
    "print('The classification report of Softmax:\\n {}'\n",
    "      .format(metrics.classification_report(y_test, sm_predict)))"
   ]
  },
  {
   "cell_type": "code",
   "execution_count": 39,
   "metadata": {},
   "outputs": [],
   "source": [
    "# Binarize the output\n",
    "y_test = label_binarize(y_test, classes=[0,1,2])\n",
    "n_classes = y_test.shape[1]\n",
    "\n",
    "y_score = sm_estimator.predict_proba(x_test)\n",
    "\n",
    "# Compute ROC curve and ROC area for each class\n",
    "fpr = dict()\n",
    "tpr = dict()\n",
    "roc_auc = dict()\n",
    "for i in range(n_classes):\n",
    "    fpr[i], tpr[i], _ = roc_curve(y_test[:, i], y_score[:, i])\n",
    "    roc_auc[i] = auc(fpr[i], tpr[i])\n",
    "    \n",
    "# Compute micro-average ROC curve and ROC area\n",
    "fpr[\"micro\"], tpr[\"micro\"], _ = roc_curve(y_test.ravel(), y_score.ravel())\n",
    "roc_auc[\"micro\"] = auc(fpr[\"micro\"], tpr[\"micro\"])"
   ]
  },
  {
   "cell_type": "code",
   "execution_count": 40,
   "metadata": {},
   "outputs": [
    {
     "data": {
      "image/png": "[encoded data removed]",
      "text/plain": [
       "<Figure size 432x288 with 1 Axes>"
      ]
     },
     "metadata": {
      "needs_background": "light"
     },
     "output_type": "display_data"
    }
   ],
   "source": [
    "lw = 2\n",
    "\n",
    "# First aggregate all false positive rates\n",
    "all_fpr = np.unique(np.concatenate([fpr[i] for i in range(n_classes)]))\n",
    "\n",
    "# Then interpolate all ROC curves at this points\n",
    "mean_tpr = np.zeros_like(all_fpr)\n",
    "for i in range(n_classes):\n",
    "    mean_tpr += interp(all_fpr, fpr[i], tpr[i])\n",
    "\n",
    "# Finally average it and compute AUC\n",
    "mean_tpr /= n_classes\n",
    "\n",
    "fpr[\"macro\"] = all_fpr\n",
    "tpr[\"macro\"] = mean_tpr\n",
    "roc_auc[\"macro\"] = auc(fpr[\"macro\"], tpr[\"macro\"])\n",
    "\n",
    "# Plot all ROC curves\n",
    "plt.figure()\n",
    "plt.plot(fpr[\"micro\"], tpr[\"micro\"],\n",
    "         label='micro-average ROC curve (area = {0:0.4f})'\n",
    "               ''.format(roc_auc[\"micro\"]),\n",
    "         color='deeppink', linestyle=':', linewidth=4)\n",
    "\n",
    "plt.plot(fpr[\"macro\"], tpr[\"macro\"],\n",
    "         label='macro-average ROC curve (area = {0:0.4f})'\n",
    "               ''.format(roc_auc[\"macro\"]),\n",
    "         color='navy', linestyle=':', linewidth=4)\n",
    "\n",
    "colors = cycle(['aqua', 'darkorange', 'cornflowerblue'])\n",
    "for i, color in zip(range(n_classes), colors):\n",
    "    plt.plot(fpr[i], tpr[i], color=color, lw=lw,\n",
    "             label='ROC curve of class {0} (area = {1:0.4f})'\n",
    "             ''.format(i, roc_auc[i]))\n",
    "\n",
    "plt.plot([0, 1], [0, 1], 'k--', lw=lw)\n",
    "plt.xlim([0.0, 1.0])\n",
    "plt.ylim([0.0, 1.05])\n",
    "plt.xlabel('False Positive Rate')\n",
    "plt.ylabel('True Positive Rate')\n",
    "plt.title('Some extension of Receiver operating characteristic to multi-class')\n",
    "plt.legend(loc=\"lower right\")\n",
    "plt.show()"
   ]
  },
  {
   "cell_type": "code",
   "execution_count": 41,
   "metadata": {},
   "outputs": [
    {
     "name": "stdout",
     "output_type": "stream",
     "text": [
      "One-vs-One ROC AUC scores:\n",
      "0.683446 (macro),\n",
      "0.659592 (weighted by prevalence)\n",
      "One-vs-Rest ROC AUC scores:\n",
      "0.683446 (macro),\n",
      "0.659592 (weighted by prevalence)\n"
     ]
    }
   ],
   "source": [
    "y_prob = sm_estimator.predict_proba(x_test)\n",
    "\n",
    "macro_roc_auc_ovo = roc_auc_score(y_test, y_prob, multi_class=\"ovo\",\n",
    "                                  average=\"macro\")\n",
    "weighted_roc_auc_ovo = roc_auc_score(y_test, y_prob, multi_class=\"ovo\",\n",
    "                                     average=\"weighted\")\n",
    "macro_roc_auc_ovr = roc_auc_score(y_test, y_prob, multi_class=\"ovr\",\n",
    "                                  average=\"macro\")\n",
    "weighted_roc_auc_ovr = roc_auc_score(y_test, y_prob, multi_class=\"ovr\",\n",
    "                                     average=\"weighted\")\n",
    "print(\"One-vs-One ROC AUC scores:\\n{:.6f} (macro),\\n{:.6f} \"\n",
    "      \"(weighted by prevalence)\"\n",
    "      .format(macro_roc_auc_ovo, weighted_roc_auc_ovo))\n",
    "print(\"One-vs-Rest ROC AUC scores:\\n{:.6f} (macro),\\n{:.6f} \"\n",
    "      \"(weighted by prevalence)\"\n",
    "      .format(macro_roc_auc_ovr, weighted_roc_auc_ovr))"
   ]
  },
  {
   "cell_type": "code",
   "execution_count": 42,
   "metadata": {},
   "outputs": [],
   "source": [
    "# perform permutation importance\n",
    "results = permutation_importance(sm_estimator,x_train, y_train, scoring='accuracy')\n",
    "# get importance\n",
    "importance = results.importances_mean\n",
    "# summarize feature importance\n",
    "importancedf = pd.DataFrame(importance)\n",
    "importancedf.columns=['Score']\n",
    "x_col=pd.DataFrame(x.columns)\n",
    "x_col.columns=['Labels']\n",
    "feature_importance = pd.concat([importancedf,x_col],axis=1)\n",
    "feature_importance.sort_values('Score',ascending = False, inplace = True)"
   ]
  },
  {
   "cell_type": "code",
   "execution_count": 43,
   "metadata": {},
   "outputs": [
    {
     "data": {
      "text/plain": [
       "(array([0, 1, 2, 3, 4, 5, 6, 7, 8, 9]),\n",
       " <a list of 10 Text major ticklabel objects>)"
      ]
     },
     "execution_count": 43,
     "metadata": {},
     "output_type": "execute_result"
    },
    {
     "data": {
      "image/png": "[encoded data removed]",
      "text/plain": [
       "<Figure size 432x288 with 1 Axes>"
      ]
     },
     "metadata": {
      "needs_background": "light"
     },
     "output_type": "display_data"
    }
   ],
   "source": [
    "plot1 = sns.barplot(data = feature_importance, x = 'Labels',y = 'Score',\n",
    "                    order = feature_importance['Labels'], color='lightskyblue').set_title('Most Important Features')\n",
    "plt.xticks(rotation=90)"
   ]
  },
  {
   "cell_type": "markdown",
   "metadata": {},
   "source": [
    "Naive Bayes"
   ]
  },
  {
   "cell_type": "code",
   "execution_count": 44,
   "metadata": {},
   "outputs": [],
   "source": [
    "x = df[[\"maximum_nights\", \"host_duration_days\", \"listing_duration_days\", \"recency\", \"min_dist_attraction\", \"min_dist_subway\", \n",
    "        \"calculated_host_listings_count_entire_homes\", \"min_dist_park\", \"security_deposit\", \"number_of_reviews_ltm\"]]\n",
    "\n",
    "y = df['rating_class']\n",
    "\n",
    "x_train, x_test, y_train, y_test = model_selection.train_test_split(x, y, test_size = 0.2, random_state = 610)"
   ]
  },
  {
   "cell_type": "code",
   "execution_count": 45,
   "metadata": {},
   "outputs": [
    {
     "name": "stdout",
     "output_type": "stream",
     "text": [
      "0.8698924292611604\n",
      "{'var_smoothing': 0.1}\n"
     ]
    }
   ],
   "source": [
    "grid_values = {'var_smoothing':[0.001,0.01,0.1,0.11,0.12,0.13,0.14,0.15, 0.2,0.3, 0.4,0.5,1,5,10,25,100]}\n",
    "grid_clf_acc = model_selection.GridSearchCV(naive_bayes.GaussianNB(), grid_values,cv= model_selection.StratifiedKFold(n_splits = 10, shuffle = True, random_state = 2019))\n",
    "grid_clf_acc.fit(x_train, y_train)\n",
    "print(grid_clf_acc.best_score_)\n",
    "print(grid_clf_acc.best_params_)"
   ]
  },
  {
   "cell_type": "code",
   "execution_count": 46,
   "metadata": {},
   "outputs": [],
   "source": [
    "gnb = naive_bayes.GaussianNB(var_smoothing = 0.1)\n",
    "gnb.fit(x_train, y_train)\n",
    "y_pred = gnb.predict(x_test)\n",
    "y_pred_prob = gnb.predict_proba(x_test)\n",
    "y_pred_prob = y_pred_prob[:, 1]"
   ]
  },
  {
   "cell_type": "code",
   "execution_count": 47,
   "metadata": {},
   "outputs": [
    {
     "data": {
      "text/plain": [
       "2    11528\n",
       "Name: 0, dtype: int64"
      ]
     },
     "execution_count": 47,
     "metadata": {},
     "output_type": "execute_result"
    }
   ],
   "source": [
    "dfnew=pd.DataFrame(y_pred)\n",
    "dfnew[0].value_counts()"
   ]
  },
  {
   "cell_type": "code",
   "execution_count": 48,
   "metadata": {},
   "outputs": [
    {
     "name": "stdout",
     "output_type": "stream",
     "text": [
      "\n",
      "The evaluation report of GNBftmax is:\n",
      "Confusion Matrix:\n",
      "[[    0     0   433]\n",
      " [    0     0  1086]\n",
      " [    0     0 10009]]\n",
      "Accuracy: 0.8682338653712699\n",
      "\n",
      "The classification report of GNB:\n",
      "               precision    recall  f1-score   support\n",
      "\n",
      "           0       0.00      0.00      0.00       433\n",
      "           1       0.00      0.00      0.00      1086\n",
      "           2       0.87      1.00      0.93     10009\n",
      "\n",
      "    accuracy                           0.87     11528\n",
      "   macro avg       0.29      0.33      0.31     11528\n",
      "weighted avg       0.75      0.87      0.81     11528\n",
      "\n"
     ]
    }
   ],
   "source": [
    "gnb_report = \"\"\"\n",
    "The evaluation report of GNBftmax is:\n",
    "Confusion Matrix:\n",
    "{}\n",
    "Accuracy: {}\n",
    "\"\"\".format(metrics.confusion_matrix(y_test, y_pred),\n",
    "           metrics.accuracy_score(y_test, y_pred))\n",
    "print(gnb_report)\n",
    "print('The classification report of GNB:\\n {}'\n",
    "      .format(metrics.classification_report(y_test, y_pred)))"
   ]
  },
  {
   "cell_type": "code",
   "execution_count": 49,
   "metadata": {},
   "outputs": [],
   "source": [
    "# Binarize the output\n",
    "y_test = label_binarize(y_test, classes=[0,1,2])\n",
    "n_classes = y_test.shape[1]\n",
    "\n",
    "y_score = gnb.predict_proba(x_test)\n",
    "\n",
    "# Compute ROC curve and ROC area for each class\n",
    "fpr = dict()\n",
    "tpr = dict()\n",
    "roc_auc = dict()\n",
    "for i in range(n_classes):\n",
    "    fpr[i], tpr[i], _ = roc_curve(y_test[:, i], y_score[:, i])\n",
    "    roc_auc[i] = auc(fpr[i], tpr[i])\n",
    "    \n",
    "# Compute micro-average ROC curve and ROC area\n",
    "fpr[\"micro\"], tpr[\"micro\"], _ = roc_curve(y_test.ravel(), y_score.ravel())\n",
    "roc_auc[\"micro\"] = auc(fpr[\"micro\"], tpr[\"micro\"])"
   ]
  },
  {
   "cell_type": "code",
   "execution_count": 50,
   "metadata": {},
   "outputs": [
    {
     "data": {
      "image/png": "[encoded data removed]",
      "text/plain": [
       "<Figure size 432x288 with 1 Axes>"
      ]
     },
     "metadata": {
      "needs_background": "light"
     },
     "output_type": "display_data"
    }
   ],
   "source": [
    "lw = 2\n",
    "\n",
    "# First aggregate all false positive rates\n",
    "all_fpr = np.unique(np.concatenate([fpr[i] for i in range(n_classes)]))\n",
    "\n",
    "# Then interpolate all ROC curves at this points\n",
    "mean_tpr = np.zeros_like(all_fpr)\n",
    "for i in range(n_classes):\n",
    "    mean_tpr += interp(all_fpr, fpr[i], tpr[i])\n",
    "\n",
    "# Finally average it and compute AUC\n",
    "mean_tpr /= n_classes\n",
    "\n",
    "fpr[\"macro\"] = all_fpr\n",
    "tpr[\"macro\"] = mean_tpr\n",
    "roc_auc[\"macro\"] = auc(fpr[\"macro\"], tpr[\"macro\"])\n",
    "\n",
    "# Plot all ROC curves\n",
    "plt.figure()\n",
    "plt.plot(fpr[\"micro\"], tpr[\"micro\"],\n",
    "         label='micro-average ROC curve (area = {0:0.4f})'\n",
    "               ''.format(roc_auc[\"micro\"]),\n",
    "         color='deeppink', linestyle=':', linewidth=4)\n",
    "\n",
    "plt.plot(fpr[\"macro\"], tpr[\"macro\"],\n",
    "         label='macro-average ROC curve (area = {0:0.4f})'\n",
    "               ''.format(roc_auc[\"macro\"]),\n",
    "         color='navy', linestyle=':', linewidth=4)\n",
    "\n",
    "colors = cycle(['aqua', 'darkorange', 'cornflowerblue'])\n",
    "for i, color in zip(range(n_classes), colors):\n",
    "    plt.plot(fpr[i], tpr[i], color=color, lw=lw,\n",
    "             label='ROC curve of class {0} (area = {1:0.4f})'\n",
    "             ''.format(i, roc_auc[i]))\n",
    "\n",
    "plt.plot([0, 1], [0, 1], 'k--', lw=lw)\n",
    "plt.xlim([0.0, 1.0])\n",
    "plt.ylim([0.0, 1.05])\n",
    "plt.xlabel('False Positive Rate')\n",
    "plt.ylabel('True Positive Rate')\n",
    "plt.title('Some extension of Receiver operating characteristic to multi-class')\n",
    "plt.legend(loc=\"lower right\")\n",
    "plt.show()"
   ]
  },
  {
   "cell_type": "code",
   "execution_count": 51,
   "metadata": {},
   "outputs": [
    {
     "name": "stdout",
     "output_type": "stream",
     "text": [
      "One-vs-One ROC AUC scores:\n",
      "0.504206 (macro),\n",
      "0.503628 (weighted by prevalence)\n",
      "One-vs-Rest ROC AUC scores:\n",
      "0.504206 (macro),\n",
      "0.503628 (weighted by prevalence)\n"
     ]
    }
   ],
   "source": [
    "y_prob = gnb.predict_proba(x_test)\n",
    "\n",
    "macro_roc_auc_ovo = roc_auc_score(y_test, y_prob, multi_class=\"ovo\",\n",
    "                                  average=\"macro\")\n",
    "weighted_roc_auc_ovo = roc_auc_score(y_test, y_prob, multi_class=\"ovo\",\n",
    "                                     average=\"weighted\")\n",
    "macro_roc_auc_ovr = roc_auc_score(y_test, y_prob, multi_class=\"ovr\",\n",
    "                                  average=\"macro\")\n",
    "weighted_roc_auc_ovr = roc_auc_score(y_test, y_prob, multi_class=\"ovr\",\n",
    "                                     average=\"weighted\")\n",
    "print(\"One-vs-One ROC AUC scores:\\n{:.6f} (macro),\\n{:.6f} \"\n",
    "      \"(weighted by prevalence)\"\n",
    "      .format(macro_roc_auc_ovo, weighted_roc_auc_ovo))\n",
    "print(\"One-vs-Rest ROC AUC scores:\\n{:.6f} (macro),\\n{:.6f} \"\n",
    "      \"(weighted by prevalence)\"\n",
    "      .format(macro_roc_auc_ovr, weighted_roc_auc_ovr))"
   ]
  },
  {
   "cell_type": "code",
   "execution_count": 52,
   "metadata": {},
   "outputs": [],
   "source": [
    "# perform permutation importance\n",
    "results = permutation_importance(sm_estimator,x_train, y_train, scoring='accuracy')\n",
    "# get importance\n",
    "importance = results.importances_mean\n",
    "# summarize feature importance\n",
    "importancedf = pd.DataFrame(importance)\n",
    "importancedf.columns=['Score']\n",
    "x_col=pd.DataFrame(x.columns)\n",
    "x_col.columns=['Labels']\n",
    "feature_importance = pd.concat([importancedf,x_col],axis=1)\n",
    "feature_importance.sort_values('Score',ascending = False, inplace = True)"
   ]
  },
  {
   "cell_type": "code",
   "execution_count": 53,
   "metadata": {},
   "outputs": [
    {
     "data": {
      "text/plain": [
       "(array([0, 1, 2, 3, 4, 5, 6, 7, 8, 9]),\n",
       " <a list of 10 Text major ticklabel objects>)"
      ]
     },
     "execution_count": 53,
     "metadata": {},
     "output_type": "execute_result"
    },
    {
     "data": {
      "image/png": "[encoded data removed]",
      "text/plain": [
       "<Figure size 432x288 with 1 Axes>"
      ]
     },
     "metadata": {
      "needs_background": "light"
     },
     "output_type": "display_data"
    }
   ],
   "source": [
    "plot1 = sns.barplot(data = feature_importance, x = 'Labels',y = 'Score',\n",
    "                    order = feature_importance['Labels'], color='lightskyblue').set_title('Most Important Features')\n",
    "plt.xticks(rotation=90)"
   ]
  }
 ],
 "metadata": {
  "kernelspec": {
   "display_name": "Python 3",
   "language": "python",
   "name": "python3"
  },
  "language_info": {
   "codemirror_mode": {
    "name": "ipython",
    "version": 3
   },
   "file_extension": ".py",
   "mimetype": "text/x-python",
   "name": "python",
   "nbconvert_exporter": "python",
   "pygments_lexer": "ipython3",
   "version": "3.7.6"
  }
 },
 "nbformat": 4,
 "nbformat_minor": 4
}
